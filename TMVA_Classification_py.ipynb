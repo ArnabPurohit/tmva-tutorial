{
 "cells": [
  {
   "cell_type": "markdown",
   "metadata": {},
   "source": [
    "<img src=\"http://oproject.org/tiki-download_file.php?fileId=8&display&x=450&y=128\">\n",
    "<img src=\"http://files.oproject.org/tmvalogo.png\" height=\"50%\" width=\"50%\">\n",
    "\n",
    "# TMVA  Training Example \n",
    "\n",
    "#### This an example of training TMVA classifiers on a Higgs data set\n",
    "\n",
    "We are going to use an extract of the UCI public Higgs data set. See https://archive.ics.uci.edu/ml/datasets/HIGGS.\n",
    "To mantain the problem simple we will use just the high level features of the data set.\n",
    "\n",
    "We will run this example using Python and using the add-on JSMVA (Javascript enhanchments for TMVA) which works only in the notebook. "
   ]
  },
  {
   "cell_type": "code",
   "execution_count": null,
   "metadata": {
    "collapsed": false
   },
   "outputs": [],
   "source": [
    "import ROOT\n",
    "from ROOT import TMVA"
   ]
  },
  {
   "cell_type": "markdown",
   "metadata": {
    "collapsed": true
   },
   "source": [
    "### Enable JS visualization\n",
    "To use new interactive features in notebook we have to enable a module called JsMVA. This can be done by using ipython magic: %jsmva.\n",
    "\n",
    "Due to a current problem with importing ROOT in the latest release, we use this temporary workaround (two lines below). They will not be needed in the future"
   ]
  },
  {
   "cell_type": "code",
   "execution_count": null,
   "metadata": {
    "collapsed": true
   },
   "outputs": [],
   "source": [
    "from IPython.core.extensions import ExtensionManager\n",
    "ExtensionManager(get_ipython()).load_extension(\"JsMVA.JsMVAMagic\")"
   ]
  },
  {
   "cell_type": "code",
   "execution_count": null,
   "metadata": {
    "collapsed": false
   },
   "outputs": [],
   "source": [
    "%jsmva on"
   ]
  },
  {
   "cell_type": "markdown",
   "metadata": {},
   "source": [
    "## Set the input tree's\n",
    "\n",
    "TMVA The input file should contains the signal and the background trees.\n",
    "In this case of the dataset, we have *sig_tree* for the signal tree and *bkg_tree* for the background one"
   ]
  },
  {
   "cell_type": "code",
   "execution_count": null,
   "metadata": {
    "collapsed": false
   },
   "outputs": [],
   "source": [
    "inputFile = ROOT.TFile(\"Higgs_data.root\")"
   ]
  },
  {
   "cell_type": "code",
   "execution_count": null,
   "metadata": {
    "collapsed": false
   },
   "outputs": [],
   "source": [
    "inputFile.ls()"
   ]
  },
  {
   "cell_type": "code",
   "execution_count": null,
   "metadata": {
    "collapsed": false
   },
   "outputs": [],
   "source": [
    "#inputFile.sig_tree.Print()"
   ]
  },
  {
   "cell_type": "code",
   "execution_count": null,
   "metadata": {
    "collapsed": true
   },
   "outputs": [],
   "source": [
    "TMVA.Tools.Instance();\n",
    "\n",
    "#optional output file\n",
    "outputFile = ROOT.TFile(\"TMVAOutput.root\", \"RECREATE\")"
   ]
  },
  {
   "cell_type": "markdown",
   "metadata": {},
   "source": [
    "## Declare TMVA Factory (String Interface)\n",
    "\n",
    "We declare the factory using the standard TMVA string interface working both in C++ and Python"
   ]
  },
  {
   "cell_type": "code",
   "execution_count": null,
   "metadata": {
    "collapsed": true
   },
   "outputs": [],
   "source": [
    "factory = TMVA.Factory( \"TMVAClassification\", outputFile #this is optional\n",
    "                       ,\"!V:Color:DrawProgressBar:Transformations=I;D;P;G,D:AnalysisType=Classification\" )"
   ]
  },
  {
   "cell_type": "markdown",
   "metadata": {},
   "source": [
    "The options string can contain the following options:\n",
    "<table>\n",
    "<tr><th>Option</th><th>Default</th><th>Predefined values</th><th>Description</th></tr>\n",
    "<tr>\n",
    " <td>V</td>\n",
    " <td>False</td>\n",
    " <td>-</td>\n",
    " <td>Verbose flag</td>\n",
    "</tr>\n",
    "<tr>\n",
    " <td>Color</td>\n",
    " <td>True</td>\n",
    " <td>-</td>\n",
    " <td>Flag for colored output</td>\n",
    "</tr>\n",
    "<tr>\n",
    " <td>Transformations</td>\n",
    " <td>\"\"</td>\n",
    " <td>-</td>\n",
    " <td>List of transformations to test. For example with \"I;D;P;U;G\" string identity, decorrelation, PCA, uniform and Gaussian transformations will be applied</td>\n",
    "</tr>\n",
    "<tr>\n",
    " <td>Silent</td>\n",
    " <td>False</td>\n",
    " <td>-</td>\n",
    " <td>Batch mode: boolean silent flag inhibiting\n",
    "any output from TMVA after\n",
    "the creation of the factory class object</td>\n",
    "</tr>\n",
    "<tr>\n",
    " <td>DrawProgressBar</td>\n",
    " <td>True</td>\n",
    " <td>-</td>\n",
    " <td>Draw progress bar to display training,\n",
    "testing and evaluation schedule (default:\n",
    "True)</td>\n",
    "</tr>\n",
    "<tr>\n",
    " <td>AnalysisType</td>\n",
    " <td>Auto</td>\n",
    " <td>Classification,\n",
    "Regression,\n",
    "Multiclass, Auto</td>\n",
    " <td>Set the analysis type</td>\n",
    "</tr>\n",
    "</table>"
   ]
  },
  {
   "cell_type": "markdown",
   "metadata": {},
   "source": [
    "## Declare TMVA Factory (Pythonic Interface)\n",
    "\n",
    "Here we give an example of using the new interface available now only in the Notebooks using JSMVA\n",
    "\n",
    "Arguments of constructor:\n",
    "The options string can contain the following options:\n",
    "<table>\n",
    "<tr><th>Keyword</th><th>Can be used as positional argument</th><th>Default</th><th>Predefined values</th><th>Description</th></tr>\n",
    "<tr>\n",
    " <td>JobName</td>\n",
    " <td>yes, 1.</td>\n",
    " <td>not optional</td>\n",
    " <td>-</td>\n",
    " <td>Name of job</td>\n",
    "</tr>\n",
    "<tr>\n",
    " <td>TargetFile</td>\n",
    " <td>yes, 2.</td>\n",
    " <td>if not passed histograms won't be saved</td>\n",
    " <td>-</td>\n",
    " <td>File to write control and performance histograms histograms </td>\n",
    "</tr>\n",
    "<tr>\n",
    " <td>V</td>\n",
    " <td>no</td>\n",
    " <td>False</td>\n",
    " <td>-</td>\n",
    " <td>Verbose flag</td>\n",
    "</tr>\n",
    "<tr>\n",
    " <td>Color</td>\n",
    "  <td>no</td>\n",
    "\n",
    " <td>True</td>\n",
    " <td>-</td>\n",
    " <td>Flag for colored output</td>\n",
    "</tr>\n",
    "<tr>\n",
    " <td>Transformations</td>\n",
    "  <td>no</td>\n",
    "\n",
    " <td>\"\"</td>\n",
    " <td>-</td>\n",
    " <td>List of transformations to test. For example with \"I;D;P;U;G\" string identity, decorrelation, PCA, uniform and Gaussian transformations will be applied</td>\n",
    "</tr>\n",
    "<tr>\n",
    " <td>Silent</td>\n",
    "  <td>no</td>\n",
    "\n",
    " <td>False</td>\n",
    "\n",
    " <td>-</td>\n",
    " <td>Batch mode: boolean silent flag inhibiting\n",
    "any output from TMVA after\n",
    "the creation of the factory class object</td>\n",
    "</tr>\n",
    "<tr>\n",
    " <td>DrawProgressBar</td>\n",
    "  <td>no</td>\n",
    "\n",
    " <td>True</td>\n",
    " <td>-</td>\n",
    " <td>Draw progress bar to display training,\n",
    "testing and evaluation schedule (default:\n",
    "True)</td>\n",
    "</tr>\n",
    "<tr>\n",
    " <td>AnalysisType</td>\n",
    "  <td>no</td>\n",
    "\n",
    " <td>Auto</td>\n",
    " <td>Classification,\n",
    "Regression,\n",
    "Multiclass, Auto</td>\n",
    " <td>Set the analysis type</td>\n",
    "</tr>\n",
    "</table>"
   ]
  },
  {
   "cell_type": "code",
   "execution_count": null,
   "metadata": {
    "collapsed": false
   },
   "outputs": [],
   "source": [
    "factory = TMVA.Factory(\"TMVAClassification\", TargetFile=outputFile,\n",
    "                       V=False, Color=True, DrawProgressBar=True, Transformations=[\"I\", \"D\", \"P\", \"G\", \"D\"],\n",
    "                       AnalysisType=\"Classification\")"
   ]
  },
  {
   "cell_type": "markdown",
   "metadata": {},
   "source": [
    "## Declare DataLoader\n",
    "\n",
    "First we need to declare a DataLoader and add the variables (passing the variable names used in the test and train trees in input dataset). To add variable names to DataLoader we use the **AddVariable** function. Arguments of this function:\n",
    "\n",
    "1. String containing the variable name. Using \":=\" we can add definition too.\n",
    "\n",
    "2. String (label to variable, if not present the variable name will be used) or character (defining the type of data points)\n",
    "\n",
    "3. If we have label for variable, the data point type still can be passed as third argument \n",
    "\n",
    "Example: \n",
    "\n",
    "loader.AddVariable( \"myvar1 := var1+var2\", 'F' )\n",
    "\n",
    "In this case we add all the 7 high level features"
   ]
  },
  {
   "cell_type": "code",
   "execution_count": null,
   "metadata": {
    "collapsed": false
   },
   "outputs": [],
   "source": [
    "loader = TMVA.DataLoader(\"dataset\");\n",
    "\n",
    "#add variables (we use the high level ones)\n",
    "loader.AddVariable(\"m_jj\")\n",
    "loader.AddVariable(\"m_jjj\")\n",
    "loader.AddVariable(\"m_lv\")\n",
    "loader.AddVariable(\"m_jlv\")\n",
    "loader.AddVariable(\"m_bb\")\n",
    "loader.AddVariable(\"m_wbb\")\n",
    "loader.AddVariable(\"m_wwbb\")\n"
   ]
  },
  {
   "cell_type": "markdown",
   "metadata": {},
   "source": [
    "## Setup Dataset(s)\n",
    "\n",
    "To pass the signal and background trees to DataLoader we use the **AddSignalTree** and **AddBackgroundTree** functions of the DataLoader class. \n",
    "\n",
    "We configure also the DataLoader using the **DataLoader.PrepareTrainingAndTestTree** function. "
   ]
  },
  {
   "cell_type": "markdown",
   "metadata": {},
   "source": [
    "With this function we apply cuts on input events and configure the number of training and test events and how do we split them.\n",
    "\n",
    "This function can accept a string option (valid for C++ and standard Python), but we will use now the new JSMVA interface, which works with keyword arguments. \n",
    "See for exsample the TMVA tutorial (*tutorials/tmva/TMVAClassification.C* for the usage of the String interface. \n",
    "\n",
    "(TMVA tutorials are also visible here: https://root.cern.ch/doc/master/group__tutorial__tmva.html )\n",
    "\n",
    "\n",
    "Arguments of **PrepareTrainingAndTestTree** function :\n",
    "<table>\n",
    "\n",
    "<tr>\n",
    "    <th>Keyword</th>\n",
    "    <th>Can be used as positional argument</th>\n",
    "    <th>Default</th>\n",
    "    <th>Predefined values</th>\n",
    "    <th>Description</th>\n",
    "</tr>\n",
    "\n",
    "<tr>\n",
    "    <td>SigCut</td>\n",
    "    <td>yes, 1.</td>\n",
    "    <td>-</td>\n",
    "    <td>-</td>\n",
    "    <td>TCut object for signal cut</td>\n",
    "</tr>\n",
    "<tr>\n",
    "    <td>Bkg</td>\n",
    "    <td>yes, 2.</td>\n",
    "    <td>-</td>\n",
    "    <td>-</td>\n",
    "    <td>TCut object for background cut</td>\n",
    "</tr>\n",
    "\n",
    "<tr>\n",
    "    <td>SplitMode</td>\n",
    "    <td>no</td>\n",
    "    <td>Random</td>\n",
    "    <td>Random,\n",
    "Alternate,\n",
    "Block</td>\n",
    "    <td>Method of picking training and testing\n",
    "events</td>\n",
    "</tr>\n",
    "<tr>\n",
    "    <td>MixMode</td>\n",
    "    <td>no</td>\n",
    "    <td>SameAsSplitMode</td>\n",
    "    <td>SameAsSplitMode,\n",
    "Random,\n",
    "Alternate,\n",
    "Block</td>\n",
    "    <td>Method of mixing events of differnt\n",
    "classes into one dataset</td>\n",
    "</tr>\n",
    "<tr>\n",
    "    <td>SplitSeed</td>\n",
    "    <td>no</td>\n",
    "    <td>100</td>\n",
    "    <td>-</td>\n",
    "    <td>Seed for random event shuffling</td>\n",
    "</tr>\n",
    "<tr>\n",
    "    <td>NormMode</td>\n",
    "    <td>no</td>\n",
    "    <td>EqualNumEvents</td>\n",
    "    <td>None, NumEvents,\n",
    "EqualNumEvents</td>\n",
    "    <td>Overall renormalisation of event-by-event\n",
    "weights used in the training (NumEvents:\n",
    "average weight of 1 per\n",
    "event, independently for signal and\n",
    "background; EqualNumEvents: average\n",
    "weight of 1 per event for signal,\n",
    "and sum of weights for background\n",
    "equal to sum of weights for signal)</td>\n",
    "</tr>\n",
    "\n",
    "<tr>\n",
    "    <td>nTrain_Signal</td>\n",
    "    <td>no</td>\n",
    "    <td>0 (all)</td>\n",
    "    <td>-</td>\n",
    "    <td>Number of training events of class Signal</td>\n",
    "</tr>\n",
    "\n",
    "<tr>\n",
    "    <td>nTest_Signal</td>\n",
    "    <td>no</td>\n",
    "    <td>0 (all)</td>\n",
    "    <td>-</td>\n",
    "    <td>Number of test events of class Signal</td>\n",
    "</tr>\n",
    "\n",
    "<tr>\n",
    "    <td>nTrain_Background</td>\n",
    "    <td>no</td>\n",
    "    <td>0 (all)</td>\n",
    "    <td>-</td>\n",
    "    <td>Number of training events of class\n",
    "Background</td>\n",
    "</tr>\n",
    "\n",
    "<tr>\n",
    "    <td>nTest_Background </td>\n",
    "    <td>no</td>\n",
    "    <td>0 (all)</td>\n",
    "    <td>-</td>\n",
    "    <td>Number of test events of class Background</td>\n",
    "</tr>\n",
    "<tr>\n",
    "    <td>V</td>\n",
    "    <td>no</td>\n",
    "    <td>False</td>\n",
    "    <td>-</td>\n",
    "    <td>Verbosity</td>\n",
    "</tr>\n",
    "<tr>\n",
    "    <td>VerboseLevel</td>\n",
    "    <td>no</td>\n",
    "    <td>Info</td>\n",
    "    <td>Debug, Verbose,\n",
    "Info</td>\n",
    "    <td>Verbosity level</td>\n",
    "</tr>\n",
    "\n",
    "</table>"
   ]
  },
  {
   "cell_type": "code",
   "execution_count": null,
   "metadata": {
    "collapsed": false
   },
   "outputs": [],
   "source": [
    "mycuts = ROOT.TCut()\n",
    "mycutb = ROOT.TCut()\n",
    "\n",
    "\n",
    "loader.AddSignalTree    (inputFile.sig_tree,     1.0)   #signal weight  = 1\n",
    "loader.AddBackgroundTree(inputFile.bkg_tree, 1.0);   #background weight = 1 \n",
    "\n",
    " \n",
    "loader.PrepareTrainingAndTestTree(SigCut=mycuts, BkgCut=mycutb,\n",
    "                    nTrain_Signal=1000, nTrain_Background=1000, nTest_Signal=10000, nTest_Background=10000, SplitMode=\"Random\", NormMode=\"NumEvents\", V=False)"
   ]
  },
  {
   "cell_type": "markdown",
   "metadata": {},
   "source": [
    "## Visualize input variables \n",
    "\n",
    "In JSMVA we have the possibility of visualizing the distribution of the input variables passed to the DataLoader."
   ]
  },
  {
   "cell_type": "code",
   "execution_count": null,
   "metadata": {
    "collapsed": false
   },
   "outputs": [],
   "source": [
    "loader.DrawInputVariable(\"m_wwbb\")"
   ]
  },
  {
   "cell_type": "code",
   "execution_count": null,
   "metadata": {
    "collapsed": false
   },
   "outputs": [],
   "source": [
    "loader.DrawInputVariable(\"m_jj\")"
   ]
  },
  {
   "cell_type": "markdown",
   "metadata": {},
   "source": [
    "## Correlation matrix of input variables\n",
    "\n",
    "We can also look at the correlation matrix of the input variables"
   ]
  },
  {
   "cell_type": "code",
   "execution_count": null,
   "metadata": {
    "collapsed": false
   },
   "outputs": [],
   "source": [
    "loader.DrawCorrelationMatrix(\"Signal\")"
   ]
  },
  {
   "cell_type": "markdown",
   "metadata": {},
   "source": [
    "# Booking Methods"
   ]
  },
  {
   "cell_type": "markdown",
   "metadata": {},
   "source": [
    "To add which method we want to train on the dataset, we have to use the **Factory.BookMethod** function. This function will add a ML method and it's options to the TMVA Factory.\n",
    "\n",
    "Arguments:\n",
    "<table>\n",
    "\n",
    "<tr>\n",
    "    <th>Keyword</th>\n",
    "    <th>Can be used as positional argument</th>\n",
    "    <th>Default</th>\n",
    "    <th>Predefined values</th>\n",
    "    <th>Description</th>\n",
    "</tr>\n",
    "\n",
    "<tr>\n",
    "    <td>DataLoader</td>\n",
    "    <td>yes, 1.</td>\n",
    "    <td>-</td>\n",
    "    <td>-</td>\n",
    "    <td>Pointer to DataLoader object</td>\n",
    "</tr>\n",
    "\n",
    "<tr>\n",
    "    <td>Method</td>\n",
    "    <td>yes, 2.</td>\n",
    "    <td>-</td>\n",
    "    <td>     kVariable\n",
    "         kCuts           ,\n",
    "         kLikelihood     ,\n",
    "         kPDERS          ,\n",
    "         kHMatrix        ,\n",
    "         kFisher         ,\n",
    "         kKNN            ,\n",
    "         kCFMlpANN       ,\n",
    "         kTMlpANN        ,\n",
    "         kBDT            ,\n",
    "         kDT             ,\n",
    "         kRuleFit        ,\n",
    "         kSVM            ,\n",
    "         kMLP            ,\n",
    "         kBayesClassifier,\n",
    "         kFDA            ,\n",
    "         kBoost          ,\n",
    "         kPDEFoam        ,\n",
    "         kLD             ,\n",
    "         kPlugins        ,\n",
    "         kCategory       ,\n",
    "         kDNN            ,\n",
    "         kPyRandomForest ,\n",
    "         kPyAdaBoost     ,\n",
    "         kPyGTB          ,\n",
    "         kC50            ,\n",
    "         kRSNNS          ,\n",
    "         kRSVM           ,\n",
    "         kRXGB           ,\n",
    "         kMaxMethod</td>\n",
    "    <td>Selected method number, method numbers defined in TMVA.Types</td>\n",
    "</tr>\n",
    "<tr>\n",
    "    <td>MethodTitle</td>\n",
    "    <td>yes, 3.</td>\n",
    "    <td>-</td>\n",
    "    <td>-</td>\n",
    "    <td>Label for method</td>\n",
    "</tr>\n",
    "<tr>\n",
    "    <td> * </td>\n",
    "    <td> no </td>\n",
    "    <td>-</td>\n",
    "    <td>-</td>\n",
    "    <td> Other named arguments which are the options for selected method. </td>\n",
    "</tr>\n",
    "</table>"
   ]
  },
  {
   "cell_type": "code",
   "execution_count": null,
   "metadata": {
    "collapsed": false
   },
   "outputs": [],
   "source": [
    "#factory.BookMethod( DataLoader=loader, Method=TMVA.Types.kSVM, MethodTitle=\"SVM\", \n",
    "#                Gamma=0.25, Tol=0.001, VarTransform=\"Norm\" )\n",
    "\n",
    "\n",
    "factory.BookMethod( loader,TMVA.Types.kLD, \"LD\", \n",
    "    H=False, V=False, VarTransform=\"None\", CreateMVAPdfs=True, PDFInterpolMVAPdf=\"Spline2\",\n",
    "                   NbinsMVAPdf=50, NsmoothMVAPdf=10 )\n",
    "\n",
    "\n",
    "factory.BookMethod( loader, TMVA.Types.kBDT, \"BDT\",\n",
    "    H=False, V=False, NTrees=850, MinNodeSize=\"2.5%\", MaxDepth=3, BoostType=\"AdaBoost\", AdaBoostBeta=0.5,\n",
    "                   UseBaggedBoost=True, BaggedSampleFraction=0.5, SeparationType=\"GiniIndex\", nCuts=20 )"
   ]
  },
  {
   "cell_type": "markdown",
   "metadata": {},
   "source": [
    "## Booking DNN\n",
    "\n",
    "Here we book the TMVA Deep Neural Network method. We use agan the JSMVA pythonic interface. \n",
    "See also the new TMVA User Guide (page 105) for the meaning of the options (available in github: \n",
    "https://github.com/root-project/root/raw/master/documentation/tmva/UsersGuide/TMVAUsersGuide.pdf)\n",
    "\n",
    "Note that on Swan the new DNN implementation working on CPU wil not work because it requires a ROOT build distribution capable of working on muilti-threads. It will work however on my laptop using all the available cores (4+4). "
   ]
  },
  {
   "cell_type": "code",
   "execution_count": null,
   "metadata": {
    "collapsed": false
   },
   "outputs": [],
   "source": [
    "bookDNN = False\n",
    "DNNType = 'Standard'\n",
    "#DNNType = 'CPU'   # use new implementation \n",
    "trainingStrategyFast = [{\n",
    "        \"LearningRate\": 1e-1,\n",
    "        \"Momentum\": 0.0,\n",
    "        \"Repetitions\": 1,\n",
    "        \"ConvergenceSteps\": 100,\n",
    "        \"BatchSize\": 50,\n",
    "        \"TestRepetitions\": 7,\n",
    "        \"WeightDecay\": 0.001,\n",
    "        \"Regularization\": \"NONE\",\n",
    "        \"DropConfig\": \"0.0+0.5+0.5+0.5\",\n",
    "        \"DropRepetitions\": 1,\n",
    "        \"Multithreading\": True\n",
    "        \n",
    "    }]\n",
    "trainingStrategy = [{\n",
    "        \"LearningRate\": 1e-1,\n",
    "        \"Momentum\": 0.0,\n",
    "        \"Repetitions\": 1,\n",
    "        \"ConvergenceSteps\": 100,\n",
    "        \"BatchSize\": 50,\n",
    "        \"TestRepetitions\": 4,\n",
    "        \"WeightDecay\": 0.001,\n",
    "        \"Regularization\": \"NONE\",\n",
    "        \"DropConfig\": \"0.0+0.5+0.5+0.5\",\n",
    "        \"DropRepetitions\": 1,\n",
    "        \"Multithreading\": True\n",
    "        \n",
    "    },  {\n",
    "        \"LearningRate\": 1e-2,\n",
    "        \"Momentum\": 0.5,\n",
    "        \"Repetitions\": 1,\n",
    "        \"ConvergenceSteps\": 100,\n",
    "        \"BatchSize\": 50,\n",
    "        \"TestRepetitions\": 2,\n",
    "        \"WeightDecay\": 0.001,\n",
    "        \"Regularization\": \"TRUE\",\n",
    "        \"DropConfig\": \"0.0+0.1+0.1+0.1\",\n",
    "        \"DropRepetitions\": 1,\n",
    "        \"Multithreading\": True\n",
    "        \n",
    "    }, {\n",
    "        \"LearningRate\": 1e-3,\n",
    "        \"Momentum\": 0.3,\n",
    "        \"Repetitions\": 1,\n",
    "        \"ConvergenceSteps\": 100,\n",
    "        \"BatchSize\": 50,\n",
    "        \"TestRepetitions\": 2,\n",
    "        \"WeightDecay\": 0.001,\n",
    "        \"Regularization\": \"NONE\",\n",
    "        \"Multithreading\": True\n",
    "    \n",
    "        \n",
    "}]\n",
    "\n",
    "if (bookDNN) : \n",
    "    factory.BookMethod(DataLoader=loader, Method=TMVA.Types.kDNN, MethodTitle=\"DNN\", \n",
    "                   H = False, V=False, VarTransform=\"Normalize\", ErrorStrategy=\"CROSSENTROPY\",\n",
    "                   Layout=[\"TANH|50\", \"TANH|50\", \"TANH|10\", \"LINEAR\"],\n",
    "                   TrainingStrategy=trainingStrategyFast,Architecture=DNNType)"
   ]
  },
  {
   "cell_type": "markdown",
   "metadata": {},
   "source": [
    "## Train Methods\n",
    "\n",
    "We train here all ML methods one after the other, by calling the **factory.TrainAllMethod** function. \n",
    "\n",
    "We can trace the process (progress bar, error plot). For some methods (MLP, DNN, BDT) there will be created a tracer plot (for MLP, DNN test and training error vs epoch, for BDT error fraction and boost weight vs tree number). There are also some method which doesn't support interactive tracing, so for these methods just a simple text will be printed, just to we know that **TrainAllMethods** function is training this method currently.\n",
    "\n",
    "For methods where is possible to trace the training interactively there is a stop button, which can stop the training process. This button just stops the training of the current method, and doesn't stop the TrainAllMethods completely."
   ]
  },
  {
   "cell_type": "code",
   "execution_count": null,
   "metadata": {
    "collapsed": false
   },
   "outputs": [],
   "source": [
    "factory.TrainAllMethods();"
   ]
  },
  {
   "cell_type": "markdown",
   "metadata": {},
   "source": [
    "## Test and Evaluate Methods\n",
    "\n",
    "To test test the methods and evaluate the performance we need to run Factory.TestAllMethods and Factory.EvaluateAllMethods functions."
   ]
  },
  {
   "cell_type": "code",
   "execution_count": null,
   "metadata": {
    "collapsed": false
   },
   "outputs": [],
   "source": [
    "factory.TestAllMethods();\n",
    "factory.EvaluateAllMethods();    "
   ]
  },
  {
   "cell_type": "markdown",
   "metadata": {},
   "source": [
    "## Classifier Output Distribution\n",
    "\n",
    "To draw the classifier output distribution we have to use Factory.DrawOutputDistribution function which is inserted by invoking jsmva magic. The parameters of the function are the following:\n",
    "The options string can contain the following options:\n",
    "<table>\n",
    "<tr><th>Keyword</th><th>Can be used as positional argument</th><th>Default</th><th>Predefined values</th><th>Description</th></tr>\n",
    "<tr>\n",
    "    <td>datasetName</td>\n",
    "    <td>yes, 1.</td>\n",
    "    <td>-</td>\n",
    "    <td>-</td>\n",
    "    <td> The name of dataset</td>\n",
    "</tr>\n",
    "<tr>\n",
    "    <td>methodName</td>\n",
    "    <td>yes, 2.</td>\n",
    "    <td>-</td>\n",
    "    <td>-</td>\n",
    "    <td> The name of method</td>\n",
    "</tr>\n",
    "</table>"
   ]
  },
  {
   "cell_type": "code",
   "execution_count": null,
   "metadata": {
    "collapsed": false
   },
   "outputs": [],
   "source": [
    "factory.DrawOutputDistribution(loader.GetName(), \"LD\")"
   ]
  },
  {
   "cell_type": "code",
   "execution_count": null,
   "metadata": {
    "collapsed": false
   },
   "outputs": [],
   "source": [
    "factory.DrawOutputDistribution(loader.GetName(), \"BDT\")"
   ]
  },
  {
   "cell_type": "code",
   "execution_count": null,
   "metadata": {
    "collapsed": false
   },
   "outputs": [],
   "source": [
    "factory.DrawOutputDistribution(loader.GetName(), \"Fisher\")"
   ]
  },
  {
   "cell_type": "code",
   "execution_count": null,
   "metadata": {
    "collapsed": false
   },
   "outputs": [],
   "source": [
    "if (bookDNN) : factory.DrawOutputDistribution(loader.GetName(), \"DNN\")"
   ]
  },
  {
   "cell_type": "markdown",
   "metadata": {},
   "source": [
    "# ROC curve\n",
    "\n",
    "To draw the ROC (receiver operating characteristic) curve we have to use Factory.DrawROCCurve function which is inserted by invoking jsmva magic. The parameters of the function are the following:\n",
    "The options string can contain the following options:\n",
    "<table>\n",
    "<tr><th>Keyword</th><th>Can be used as positional argument</th><th>Default</th><th>Predefined values</th><th>Description</th></tr>\n",
    "<tr>\n",
    "    <td>datasetName</td>\n",
    "    <td>yes, 1.</td>\n",
    "    <td>-</td>\n",
    "    <td>-</td>\n",
    "    <td> The name of dataset</td>\n",
    "</tr>\n",
    "</table>"
   ]
  },
  {
   "cell_type": "code",
   "execution_count": null,
   "metadata": {
    "collapsed": false
   },
   "outputs": [],
   "source": [
    "roc = factory.GetROCCurve(loader)\n",
    "roc.Draw();"
   ]
  },
  {
   "cell_type": "markdown",
   "metadata": {},
   "source": [
    "We can also get the integra of the ROC curve for some of the methods"
   ]
  },
  {
   "cell_type": "code",
   "execution_count": null,
   "metadata": {
    "collapsed": false
   },
   "outputs": [],
   "source": [
    "print 'ROC integral for LD = ',factory.GetROCIntegral(loader, 'LD')"
   ]
  },
  {
   "cell_type": "code",
   "execution_count": null,
   "metadata": {
    "collapsed": false
   },
   "outputs": [],
   "source": [
    "print 'ROC integral for BDT = ',factory.GetROCIntegral(loader, 'BDT')"
   ]
  },
  {
   "cell_type": "code",
   "execution_count": null,
   "metadata": {
    "collapsed": false
   },
   "outputs": [],
   "source": [
    "if (bookDNN) : print 'ROC integral for DNN = ',factory.GetROCIntegral(loader, 'DNN')"
   ]
  },
  {
   "cell_type": "markdown",
   "metadata": {},
   "source": [
    "## Draw Neural Network"
   ]
  },
  {
   "cell_type": "markdown",
   "metadata": {},
   "source": [
    "If we trained a neural network then the weights of the network will be saved to XML and C file. \n",
    "We can read back the XML file and we can visualize the network using Factory.DrawNeuralNetwork function.\n",
    "\n",
    "The arguments of this function:\n",
    "<table>\n",
    "<tr><th>Keyword</th><th>Can be used as positional argument</th><th>Default</th><th>Predefined values</th><th>Description</th></tr>\n",
    "<tr>\n",
    "    <td>datasetName</td>\n",
    "    <td>yes, 1.</td>\n",
    "    <td>-</td>\n",
    "    <td>-</td>\n",
    "    <td> The name of dataset</td>\n",
    "</tr>\n",
    "<tr>\n",
    "    <td>methodName</td>\n",
    "    <td>yes, 2.</td>\n",
    "    <td>-</td>\n",
    "    <td>-</td>\n",
    "    <td> The name of method</td>\n",
    "</tr>\n",
    "</table>"
   ]
  },
  {
   "cell_type": "markdown",
   "metadata": {},
   "source": [
    "This visualization will be interactive, and we can do the following with it:\n",
    "* Mouseover (node, weight): focusing\n",
    "* Zooming and grab and move supported\n",
    "* Reset: double click\n",
    "\n",
    "The synapses are drawn with 2 colors, one for positive weight and one for negative weight. The absolute value of the synapses are scaled and transformed to thickness of line between to node."
   ]
  },
  {
   "cell_type": "code",
   "execution_count": null,
   "metadata": {
    "collapsed": false
   },
   "outputs": [],
   "source": [
    "if (bookDNN):  factory.DrawNeuralNetwork(loader.GetName(), \"DNN\")"
   ]
  }
 ],
 "metadata": {
  "kernelspec": {
   "display_name": "Python 2",
   "language": "python",
   "name": "python2"
  },
  "language_info": {
   "codemirror_mode": {
    "name": "ipython",
    "version": 2
   },
   "file_extension": ".py",
   "mimetype": "text/x-python",
   "name": "python",
   "nbconvert_exporter": "python",
   "pygments_lexer": "ipython2",
   "version": "2.7.13"
  }
 },
 "nbformat": 4,
 "nbformat_minor": 1
}
