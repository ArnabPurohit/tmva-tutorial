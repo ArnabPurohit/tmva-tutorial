{
 "cells": [
  {
   "cell_type": "markdown",
   "metadata": {},
   "source": [
    "<img src=\"http://oproject.org/tiki-download_file.php?fileId=8&display&x=450&y=128\">\n",
    "<img src=\"http://files.oproject.org/tmvalogo.png\" height=\"50%\" width=\"50%\">\n",
    "\n",
    "# TMVA  Reader Example \n",
    "\n",
    "#### Example of applying the trained classified of TMVA on a data set and evaluate the classifier"
   ]
  },
  {
   "cell_type": "code",
   "execution_count": 1,
   "metadata": {
    "collapsed": false
   },
   "outputs": [
    {
     "name": "stdout",
     "output_type": "stream",
     "text": [
      "Welcome to JupyROOT 6.15/01\n"
     ]
    }
   ],
   "source": [
    "import ROOT\n",
    "from ROOT import TMVA"
   ]
  },
  {
   "cell_type": "code",
   "execution_count": 2,
   "metadata": {
    "collapsed": true
   },
   "outputs": [],
   "source": [
    "##%jsroot on"
   ]
  },
  {
   "cell_type": "code",
   "execution_count": 3,
   "metadata": {
    "collapsed": true
   },
   "outputs": [],
   "source": [
    "import os\n",
    "os.environ[\"KERAS_BACKEND\"] = \"tensorflow\""
   ]
  },
  {
   "cell_type": "markdown",
   "metadata": {},
   "source": [
    "### Choose TMVA method to evaluate"
   ]
  },
  {
   "cell_type": "code",
   "execution_count": 4,
   "metadata": {
    "collapsed": true
   },
   "outputs": [],
   "source": [
    "methodNames = [\"BDT\",\"DL_CPU\",\"Keras_Dense\",\"PyGTB\"]"
   ]
  },
  {
   "cell_type": "markdown",
   "metadata": {},
   "source": [
    "###  Give input file \n"
   ]
  },
  {
   "cell_type": "code",
   "execution_count": 5,
   "metadata": {
    "collapsed": true
   },
   "outputs": [],
   "source": [
    "inputFile = ROOT.TFile(\"Higgs_data.root\")"
   ]
  },
  {
   "cell_type": "code",
   "execution_count": 6,
   "metadata": {
    "collapsed": false
   },
   "outputs": [
    {
     "name": "stdout",
     "output_type": "stream",
     "text": [
      "TFile**\t\tHiggs_data.root\t\n",
      " TFile*\t\tHiggs_data.root\t\n",
      "  KEY: TTree\tsig_tree;1\ttree\n",
      "  KEY: TTree\tbkg_tree;1\ttree\n"
     ]
    }
   ],
   "source": [
    "inputFile.ls()\n",
    "#inputFile.sig_tree.Print()"
   ]
  },
  {
   "cell_type": "markdown",
   "metadata": {},
   "source": [
    "### Declare Reader\n"
   ]
  },
  {
   "cell_type": "code",
   "execution_count": 7,
   "metadata": {
    "collapsed": true
   },
   "outputs": [],
   "source": [
    "TMVA.Tools.Instance()\n",
    "TMVA.PyMethodBase.PyInitialize();\n",
    "\n",
    "reader = TMVA.Reader( \"!Color:!Silent\" )\n"
   ]
  },
  {
   "cell_type": "markdown",
   "metadata": {},
   "source": [
    "### Add Variable\n",
    "\n",
    "We add variables to the reader exactly in the same way we did for the **DataLoader** during the training\n",
    "\n",
    "We need to specify the address of the variable in order to pass it to TMVA when we iterate on the TTree\n"
   ]
  },
  {
   "cell_type": "code",
   "execution_count": 8,
   "metadata": {
    "collapsed": true
   },
   "outputs": [],
   "source": [
    "from array import array\n",
    "m_jj = array('f',[0])\n",
    "m_jjj = array('f',[0])\n",
    "m_lv = array('f',[0])\n",
    "m_jlv = array('f',[0])\n",
    "m_bb = array('f',[0])\n",
    "m_wbb = array('f',[0])\n",
    "m_wwbb = array('f',[0])"
   ]
  },
  {
   "cell_type": "code",
   "execution_count": 9,
   "metadata": {
    "collapsed": true
   },
   "outputs": [],
   "source": [
    "#add variables \n",
    "reader.AddVariable(\"m_jj\",m_jj)\n",
    "reader.AddVariable(\"m_jjj\",m_jjj)\n",
    "reader.AddVariable(\"m_lv\",m_lv)\n",
    "reader.AddVariable(\"m_jlv\",m_jlv)\n",
    "reader.AddVariable(\"m_bb\",m_bb)\n",
    "reader.AddVariable(\"m_wbb\",m_wbb)\n",
    "reader.AddVariable(\"m_wwbb\",m_wwbb)\n"
   ]
  },
  {
   "cell_type": "markdown",
   "metadata": {},
   "source": [
    "## Setup Classifiers\n",
    "\n",
    "We set up the classifiers by reading the input weights from the appropriate files\n",
    "\n",
    "The file is stored for example as \n",
    "\n",
    "####  *dataset/weights/TMVAClassification_BDT.weights.xml"
   ]
  },
  {
   "cell_type": "code",
   "execution_count": 10,
   "metadata": {
    "collapsed": false
   },
   "outputs": [
    {
     "name": "stderr",
     "output_type": "stream",
     "text": [
      "Using TensorFlow backend.\n"
     ]
    },
    {
     "name": "stdout",
     "output_type": "stream",
     "text": [
      "                         : Booking \"BDT\" of type \"BDT\" from dataset/weights/TMVA_Higgs_Classification_BDT.weights.xml.\n",
      "                         : Reading weight file: dataset/weights/TMVA_Higgs_Classification_BDT.weights.xml\n",
      "<HEADER> DataSetInfo              : [Default] : Added class \"Signal\"\n",
      "<HEADER> DataSetInfo              : [Default] : Added class \"Background\"\n",
      "                         : Booked classifier \"BDT\" of type: \"BDT\"\n",
      "                         : Booking \"DL_CPU\" of type \"DL\" from dataset/weights/TMVA_Higgs_Classification_DL_CPU.weights.xml.\n",
      "                         : Reading weight file: dataset/weights/TMVA_Higgs_Classification_DL_CPU.weights.xml\n",
      "                         : Booked classifier \"DL_CPU\" of type: \"DL\"\n",
      "                         : Booking \"Keras_Dense\" of type \"PyKeras\" from dataset/weights/TMVA_Higgs_Classification_Keras_Dense.weights.xml.\n",
      "                         : Reading weight file: dataset/weights/TMVA_Higgs_Classification_Keras_Dense.weights.xml\n",
      "                         : Booked classifier \"Keras_Dense\" of type: \"PyKeras\"\n",
      "                         : Booking \"PyGTB\" of type \"PyGTB\" from dataset/weights/TMVA_Higgs_Classification_PyGTB.weights.xml.\n",
      "                         : Reading weight file: dataset/weights/TMVA_Higgs_Classification_PyGTB.weights.xml\n",
      "                         : Booked classifier \"PyGTB\" of type: \"PyGTB\"\n"
     ]
    },
    {
     "name": "stderr",
     "output_type": "stream",
     "text": [
      "2018-09-19 10:09:07.414424: I tensorflow/core/platform/cpu_feature_guard.cc:137] Your CPU supports instructions that this TensorFlow binary was not compiled to use: SSE4.1 SSE4.2 AVX AVX2 FMA\n"
     ]
    }
   ],
   "source": [
    "for methodName in methodNames: \n",
    "    weightfile = \"dataset/weights/TMVA_Higgs_Classification_\" + methodName + \".weights.xml\"\n",
    "    name = ROOT.TString(methodName)\n",
    "    reader.BookMVA( name, weightfile );"
   ]
  },
  {
   "cell_type": "markdown",
   "metadata": {},
   "source": [
    "### Book histogram to visualize the response"
   ]
  },
  {
   "cell_type": "code",
   "execution_count": 11,
   "metadata": {
    "collapsed": false
   },
   "outputs": [],
   "source": [
    "hs = {}\n",
    "hb = {}\n",
    "for name in methodNames:\n",
    "    hname = \"hsig_\" + name\n",
    "    htitle = \"Classifier Output for \" + name \n",
    "    hs[name] = ( ROOT.TH1D(hname,htitle,100,-1,1) )\n",
    "    hname = \"hbkg_\" + name\n",
    "    hb[name] = (ROOT.TH1D(hname,htitle,100,-1,1) )"
   ]
  },
  {
   "cell_type": "markdown",
   "metadata": {},
   "source": [
    "## Iterate on the events from the input TTree "
   ]
  },
  {
   "cell_type": "markdown",
   "metadata": {},
   "source": [
    "### Evaluation of the classifier on the given input events\n",
    "\n",
    "We iterate on the input event in the given TTree. We provide as input first the background tree \n",
    "We return the output results for the various methods in big numpy array [ number of methods x number of events]\n",
    "We also fill an histogram for each method.\n",
    "Note that is important to fill the arrays with the tree entries in order to pass the values to the TMVA::Reader"
   ]
  },
  {
   "cell_type": "code",
   "execution_count": 12,
   "metadata": {
    "collapsed": true
   },
   "outputs": [],
   "source": [
    "import numpy as np"
   ]
  },
  {
   "cell_type": "code",
   "execution_count": 13,
   "metadata": {
    "collapsed": false
   },
   "outputs": [
    {
     "name": "stdout",
     "output_type": "stream",
     "text": [
      "Event  0  MVA output for  BDT  = 0.165350907588\n",
      "Event  0  MVA output for  DL_CPU  = 0.697432518005\n",
      "Event  0  MVA output for  Keras_Dense  = 0.76417940855\n",
      "Event  0  MVA output for  PyGTB  = 0.647405894998\n",
      "Event  1000  MVA output for  BDT  = 0.140806048602\n",
      "Event  1000  MVA output for  DL_CPU  = 0.598757088184\n",
      "Event  1000  MVA output for  Keras_Dense  = 0.576208591461\n",
      "Event  1000  MVA output for  PyGTB  = 0.751657432983\n",
      "Event  2000  MVA output for  BDT  = -0.16743432812\n",
      "Event  2000  MVA output for  DL_CPU  = 0.251279115677\n",
      "Event  2000  MVA output for  Keras_Dense  = 0.205117329955\n",
      "Event  2000  MVA output for  PyGTB  = 0.297850675798\n",
      "Event  3000  MVA output for  BDT  = -0.125963499152\n",
      "Event  3000  MVA output for  DL_CPU  = 0.326766073704\n",
      "Event  3000  MVA output for  Keras_Dense  = 0.369150876999\n",
      "Event  3000  MVA output for  PyGTB  = 0.283243205167\n",
      "Event  4000  MVA output for  BDT  = 0.162123734646\n",
      "Event  4000  MVA output for  DL_CPU  = 0.627530813217\n",
      "Event  4000  MVA output for  Keras_Dense  = 0.67806917429\n",
      "Event  4000  MVA output for  PyGTB  = 0.51725001285\n",
      "Event  5000  MVA output for  BDT  = 0.235443049182\n",
      "Event  5000  MVA output for  DL_CPU  = 0.829461395741\n",
      "Event  5000  MVA output for  Keras_Dense  = 0.812230348587\n",
      "Event  5000  MVA output for  PyGTB  = 0.797850335919\n",
      "Event  6000  MVA output for  BDT  = -0.242179833724\n",
      "Event  6000  MVA output for  DL_CPU  = 0.130798250437\n",
      "Event  6000  MVA output for  Keras_Dense  = 0.207631841302\n",
      "Event  6000  MVA output for  PyGTB  = 0.0961067882657\n",
      "Event  7000  MVA output for  BDT  = -0.416141296329\n",
      "Event  7000  MVA output for  DL_CPU  = 0.0648977383971\n",
      "Event  7000  MVA output for  Keras_Dense  = 0.0531590990722\n",
      "Event  7000  MVA output for  PyGTB  = 0.0568456201571\n",
      "Event  8000  MVA output for  BDT  = -0.125630732172\n",
      "Event  8000  MVA output for  DL_CPU  = 0.267609357834\n",
      "Event  8000  MVA output for  Keras_Dense  = 0.320870578289\n",
      "Event  8000  MVA output for  PyGTB  = 0.301635837144\n",
      "Event  9000  MVA output for  BDT  = 0.136290989359\n",
      "Event  9000  MVA output for  DL_CPU  = 0.632040560246\n",
      "Event  9000  MVA output for  Keras_Dense  = 0.592512786388\n",
      "Event  9000  MVA output for  PyGTB  = 0.481964263293\n",
      "                         : Load model from file: dataset/weights/TrainedModel_Keras_Dense.h5\n",
      "                         : \n",
      "                         : Loading state file: dataset/weights/PyGTBModel_PyGTB.PyData\n",
      "                         : \n"
     ]
    }
   ],
   "source": [
    "\n",
    "nevt = inputFile.bkg_tree.GetEntries()\n",
    "\n",
    "vout = np.arange( nevt * len(methodNames), dtype='float').reshape( len(methodNames), nevt)\n",
    "ievt = 0\n",
    "for entry in inputFile.bkg_tree:\n",
    "    m_jj[0] = entry.m_jj\n",
    "    m_jjj[0] = entry.m_jjj\n",
    "    m_lv[0] = entry.m_lv\n",
    "    m_jlv[0] = entry.m_jlv\n",
    "    m_bb[0] = entry.m_bb\n",
    "    m_wbb[0] = entry.m_wbb\n",
    "    m_wwbb[0] = entry.m_wwbb\n",
    "    \n",
    "    i = 0\n",
    "    for methodName in methodNames : \n",
    "        vout[i,ievt] = reader.EvaluateMVA(methodName)\n",
    "        hb[methodName].Fill(vout[i,ievt])        \n",
    "        if (ievt%1000)==0 : print 'Event ',ievt,' MVA output for ',methodName,' =',vout[i,ievt]\n",
    "        i += 1\n",
    "        \n",
    "    ievt += 1\n",
    "#    if (ievt > 20000) : break\n",
    "    "
   ]
  },
  {
   "cell_type": "code",
   "execution_count": 14,
   "metadata": {
    "collapsed": false
   },
   "outputs": [
    {
     "name": "stdout",
     "output_type": "stream",
     "text": [
      "[[ 0.16535091 -0.23339984 -0.0260511  ..., -0.00653011 -0.50357643\n",
      "   0.06607487]\n",
      " [ 0.69743252  0.19758229  0.39965579 ...,  0.56422424  0.0266454\n",
      "   0.53953916]\n",
      " [ 0.76417941  0.19090085  0.40063795 ...,  0.65160662  0.02978987\n",
      "   0.66070086]\n",
      " [ 0.64740589  0.10777924  0.48447225 ...,  0.45347727  0.05866211\n",
      "   0.51386542]]\n"
     ]
    }
   ],
   "source": [
    "print vout\n",
    "bkg_result = vout"
   ]
  },
  {
   "cell_type": "markdown",
   "metadata": {},
   "source": [
    "### Evaluation on the signal  events\n",
    "\n",
    "We evaluate now the classifier on the another tree (e.g. the signal events)\n",
    "\n"
   ]
  },
  {
   "cell_type": "code",
   "execution_count": 15,
   "metadata": {
    "collapsed": false
   },
   "outputs": [
    {
     "name": "stdout",
     "output_type": "stream",
     "text": [
      "Event  0  MVA output for  BDT  = 0.0755062993678\n",
      "Event  0  MVA output for  DL_CPU  = 0.614324510098\n",
      "Event  0  MVA output for  Keras_Dense  = 0.694843947887\n",
      "Event  0  MVA output for  PyGTB  = 0.570058777096\n",
      "Event  1000  MVA output for  BDT  = -0.109040247822\n",
      "Event  1000  MVA output for  DL_CPU  = 0.579502165318\n",
      "Event  1000  MVA output for  Keras_Dense  = 0.646471917629\n",
      "Event  1000  MVA output for  PyGTB  = 0.472240408508\n",
      "Event  2000  MVA output for  BDT  = -0.0222021669562\n",
      "Event  2000  MVA output for  DL_CPU  = 0.739202022552\n",
      "Event  2000  MVA output for  Keras_Dense  = 0.821829378605\n",
      "Event  2000  MVA output for  PyGTB  = 0.642833233215\n",
      "Event  3000  MVA output for  BDT  = -0.0260826323729\n",
      "Event  3000  MVA output for  DL_CPU  = 0.411046236753\n",
      "Event  3000  MVA output for  Keras_Dense  = 0.352243512869\n",
      "Event  3000  MVA output for  PyGTB  = 0.435252358925\n",
      "Event  4000  MVA output for  BDT  = -0.0888159977501\n",
      "Event  4000  MVA output for  DL_CPU  = 0.494650930166\n",
      "Event  4000  MVA output for  Keras_Dense  = 0.528396904469\n",
      "Event  4000  MVA output for  PyGTB  = 0.535539449765\n",
      "Event  5000  MVA output for  BDT  = 0.131534549057\n",
      "Event  5000  MVA output for  DL_CPU  = 0.602927744389\n",
      "Event  5000  MVA output for  Keras_Dense  = 0.634919404984\n",
      "Event  5000  MVA output for  PyGTB  = 0.72967633921\n",
      "Event  6000  MVA output for  BDT  = 0.17737943633\n",
      "Event  6000  MVA output for  DL_CPU  = 0.608643651009\n",
      "Event  6000  MVA output for  Keras_Dense  = 0.603494524956\n",
      "Event  6000  MVA output for  PyGTB  = 0.724690133456\n",
      "Event  7000  MVA output for  BDT  = -0.0542664440397\n",
      "Event  7000  MVA output for  DL_CPU  = 0.44543492794\n",
      "Event  7000  MVA output for  Keras_Dense  = 0.43987891078\n",
      "Event  7000  MVA output for  PyGTB  = 0.468232909401\n",
      "Event  8000  MVA output for  BDT  = 0.29138573533\n",
      "Event  8000  MVA output for  DL_CPU  = 0.832422494888\n",
      "Event  8000  MVA output for  Keras_Dense  = 0.809074699879\n",
      "Event  8000  MVA output for  PyGTB  = 0.864787240493\n",
      "Event  9000  MVA output for  BDT  = 0.173348001528\n",
      "Event  9000  MVA output for  DL_CPU  = 0.726819217205\n",
      "Event  9000  MVA output for  Keras_Dense  = 0.782759487629\n",
      "Event  9000  MVA output for  PyGTB  = 0.780543672753\n",
      "[[ 0.0755063   0.2266136   0.33341508 ...,  0.07011308 -0.04175035\n",
      "   0.15334692]\n",
      " [ 0.61432451  0.78156579  0.92568243 ...,  0.83242857  0.509803\n",
      "   0.70549411]\n",
      " [ 0.69484395  0.82503438  0.90946835 ...,  0.81928259  0.40233219\n",
      "   0.64812785]\n",
      " [ 0.57005878  0.85708603  0.8713341  ...,  0.54719322  0.39453206\n",
      "   0.74962279]]\n"
     ]
    }
   ],
   "source": [
    "nevt = inputFile.sig_tree.GetEntries()\n",
    "\n",
    "vout = np.arange( nevt * len(methodNames), dtype='float').reshape( len(methodNames), nevt)\n",
    "ievt = 0\n",
    "for entry in inputFile.sig_tree:\n",
    "    m_jj[0] = entry.m_jj\n",
    "    m_jjj[0] = entry.m_jjj\n",
    "    m_lv[0] = entry.m_lv\n",
    "    m_jlv[0] = entry.m_jlv\n",
    "    m_bb[0] = entry.m_bb\n",
    "    m_wbb[0] = entry.m_wbb\n",
    "    m_wwbb[0] = entry.m_wwbb\n",
    "    \n",
    "    i = 0\n",
    "    for methodName in methodNames : \n",
    "        vout[i,ievt] = reader.EvaluateMVA(methodName)\n",
    "        hs[methodName].Fill(vout[i,ievt])\n",
    "        if (ievt%1000)==0 : print 'Event ',ievt,' MVA output for ',methodName,' =',vout[i,ievt]\n",
    "        i += 1\n",
    "        \n",
    "    ievt += 1\n",
    "#    if (ievt > 20000) : break\n",
    "    \n",
    "    \n",
    "sig_result = vout\n",
    "print(sig_result)"
   ]
  },
  {
   "cell_type": "markdown",
   "metadata": {},
   "source": [
    "### Plot Histogram of output variables"
   ]
  },
  {
   "cell_type": "code",
   "execution_count": 16,
   "metadata": {
    "collapsed": false
   },
   "outputs": [
    {
     "data": {
      "image/png": "[encoded data removed]",
      "text/plain": [
       "<IPython.core.display.Image object>"
      ]
     },
     "metadata": {},
     "output_type": "display_data"
    }
   ],
   "source": [
    "c1 = ROOT.TCanvas()\n",
    "c1.DivideSquare( len(hb))\n",
    "ipad = 0\n",
    "for name in methodNames: \n",
    "    ipad += 1\n",
    "    pad = c1.cd(ipad)\n",
    "    h1 = hb[name]\n",
    "    h1.Draw()\n",
    "    h2 = hs[name]\n",
    "    h2.SetLineColor(ROOT.kRed)\n",
    "    h2.Draw('Same')\n",
    "    pad.BuildLegend()\n",
    "    \n",
    "c1.Draw()"
   ]
  },
  {
   "cell_type": "markdown",
   "metadata": {
    "collapsed": true
   },
   "source": [
    "### Computing ROC Curve\n",
    "\n",
    "We compute here the ROC curve from the vector of the classifier output for signal and background events. \n",
    "The interface for the TMVA::ROCCurve class requires  a std::vector of float types"
   ]
  },
  {
   "cell_type": "code",
   "execution_count": 22,
   "metadata": {
    "collapsed": false
   },
   "outputs": [
    {
     "name": "stdout",
     "output_type": "stream",
     "text": [
      "BDT  ROC Integral  0.760342465\n",
      "DL_CPU  ROC Integral  0.780263305\n",
      "Keras_Dense  ROC Integral  0.779635705\n",
      "PyGTB  ROC Integral  0.822843145\n"
     ]
    }
   ],
   "source": [
    "i = 0\n",
    "roc = []\n",
    "c2 = ROOT.TCanvas()\n",
    "for name in methodNames: \n",
    "    vsig = ROOT.std.vector('float')(nevt)\n",
    "    vbkg = ROOT.std.vector('float')(nevt)\n",
    "    for ievt in range(0,nevt): \n",
    "        vsig[ievt] = sig_result[i,ievt]\n",
    "        vbkg[ievt] = bkg_result[i,ievt]\n",
    "    roc.append ( TMVA.ROCCurve(vsig,vbkg) )\n",
    "    print name,' ROC Integral ',roc[i].GetROCIntegral()\n",
    "    gr = roc[i].GetROCCurve()\n",
    "    gr.SetLineColor(i+1)\n",
    "    gr.SetTitle(name)\n",
    "    if (i==0): \n",
    "        gr.Draw('AL')\n",
    "    else:\n",
    "        gr.Draw(\"L\")\n",
    "    i += 1\n",
    "    \n"
   ]
  },
  {
   "cell_type": "code",
   "execution_count": 23,
   "metadata": {
    "collapsed": false
   },
   "outputs": [
    {
     "data": {
      "image/png": "[encoded data removed]",
      "text/plain": [
       "<IPython.core.display.Image object>"
      ]
     },
     "metadata": {},
     "output_type": "display_data"
    }
   ],
   "source": [
    "c2.BuildLegend()\n",
    "c2.Draw()"
   ]
  },
  {
   "cell_type": "code",
   "execution_count": 19,
   "metadata": {
    "collapsed": false
   },
   "outputs": [
    {
     "data": {
      "text/plain": [
       "<ROOT.TTree object (\"sig_tree\") at 0x7fba52713b60>"
      ]
     },
     "execution_count": 19,
     "metadata": {},
     "output_type": "execute_result"
    }
   ],
   "source": [
    "inputFile.sig_tree\n"
   ]
  },
  {
   "cell_type": "code",
   "execution_count": 20,
   "metadata": {
    "collapsed": false
   },
   "outputs": [],
   "source": [
    "a = inputFile.sig_tree.AsMatrix(['m_jj','m_jjj','m_lv','m_jlv','m_bb','m_wbb','m_wwbb'])"
   ]
  },
  {
   "cell_type": "code",
   "execution_count": 21,
   "metadata": {
    "collapsed": false
   },
   "outputs": [
    {
     "name": "stdout",
     "output_type": "stream",
     "text": [
      "[[ 1.35376     0.97956312  0.97807616 ...,  0.72165745  0.98875093\n",
      "   0.87667835]\n",
      " [ 0.3022199   0.83304816  0.98569965 ...,  0.77973217  0.99235576\n",
      "   0.79834259]\n",
      " [ 0.90975326  1.10833049  0.9856922  ...,  0.8032515   0.86592442\n",
      "   0.78011757]\n",
      " ..., \n",
      " [ 0.78733569  0.97868377  0.98237854 ...,  0.96853018  0.93126822\n",
      "   0.91213906]\n",
      " [ 0.92211759  1.03808665  0.98750263 ...,  0.46553683  0.80048835\n",
      "   0.80058527]\n",
      " [ 0.7312851   1.06170535  1.07203448 ...,  0.87044066  1.11418879\n",
      "   0.96912521]]\n"
     ]
    }
   ],
   "source": [
    "print a"
   ]
  },
  {
   "cell_type": "code",
   "execution_count": 24,
   "metadata": {
    "collapsed": false
   },
   "outputs": [
    {
     "data": {
      "text/plain": [
       "10000"
      ]
     },
     "execution_count": 24,
     "metadata": {},
     "output_type": "execute_result"
    }
   ],
   "source": [
    "len(a)"
   ]
  },
  {
   "cell_type": "code",
   "execution_count": null,
   "metadata": {
    "collapsed": true
   },
   "outputs": [],
   "source": []
  }
 ],
 "metadata": {
  "kernelspec": {
   "display_name": "Python 2",
   "language": "python",
   "name": "python2"
  },
  "language_info": {
   "codemirror_mode": {
    "name": "ipython",
    "version": 2
   },
   "file_extension": ".py",
   "mimetype": "text/x-python",
   "name": "python",
   "nbconvert_exporter": "python",
   "pygments_lexer": "ipython2",
   "version": "2.7.10"
  }
 },
 "nbformat": 4,
 "nbformat_minor": 1
}
