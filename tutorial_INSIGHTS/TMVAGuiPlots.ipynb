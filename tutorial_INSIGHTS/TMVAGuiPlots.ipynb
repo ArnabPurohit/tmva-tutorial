{
 "cells": [
  {
   "cell_type": "markdown",
   "metadata": {},
   "source": [
    "### Plot of Classifier Output Distributions\n",
    "\n",
    "This macro uses function in the TMVAGui libraries to plot classifiers output distributions"
   ]
  },
  {
   "cell_type": "code",
   "execution_count": 1,
   "metadata": {},
   "outputs": [],
   "source": [
    "fileName = \"TMVA_ClassificationOutput.root\";\n",
    "dataset = \"dataset\";"
   ]
  },
  {
   "cell_type": "code",
   "execution_count": 2,
   "metadata": {},
   "outputs": [
    {
     "name": "stdout",
     "output_type": "stream",
     "text": [
      "--- Opening root file TMVA_ClassificationOutput.root in read mode\n",
      "--- Found directory for method: Likelihood::Likelihood containing MVA_Likelihood_S/_B\n",
      "--- Mean and RMS (S): 0.0744742, 0.164011\n",
      "--- Mean and RMS (B): -0.0949108, 0.25185\n",
      "--- --------------------------------------------------------------------\n",
      "--- If you want to save the image as eps, gif or png, please comment out \n",
      "--- the corresponding lines (line no. 239-241) in tmvaglob.C\n",
      "--- --------------------------------------------------------------------\n"
     ]
    },
    {
     "name": "stderr",
     "output_type": "stream",
     "text": [
      "Warning in <TColor::TColor>: color 600 already defined\n",
      "Info in <TCanvas::Print>: eps file dataset/plots/mva_Likelihood.eps has been created\n"
     ]
    },
    {
     "name": "stdout",
     "output_type": "stream",
     "text": [
      "--- Found directory for method: LikelihoodKDE::LikelihoodKDE containing MVA_LikelihoodKDE_S/_B\n",
      "--- Mean and RMS (S): 0.648479, 0.319475\n",
      "--- Mean and RMS (B): 0.340426, 0.312944\n"
     ]
    },
    {
     "name": "stderr",
     "output_type": "stream",
     "text": [
      "Info in <TCanvas::Print>: png file dataset/plots/mva_Likelihood.png has been created\n"
     ]
    },
    {
     "name": "stdout",
     "output_type": "stream",
     "text": [
      "--- --------------------------------------------------------------------\n",
      "--- If you want to save the image as eps, gif or png, please comment out \n",
      "--- the corresponding lines (line no. 239-241) in tmvaglob.C\n",
      "--- --------------------------------------------------------------------\n"
     ]
    },
    {
     "name": "stderr",
     "output_type": "stream",
     "text": [
      "Warning in <TColor::TColor>: color 600 already defined\n",
      "Info in <TCanvas::Print>: eps file dataset/plots/mva_LikelihoodKDE.eps has been created\n"
     ]
    },
    {
     "name": "stdout",
     "output_type": "stream",
     "text": [
      "--- Found directory for method: Fisher::Fisher containing MVA_Fisher_S/_B\n",
      "--- Mean and RMS (S): 0.488241, 0.48077\n",
      "--- Mean and RMS (B): -0.486339, 0.475469\n",
      "--- --------------------------------------------------------------------\n",
      "--- If you want to save the image as eps, gif or png, please comment out \n",
      "--- the corresponding lines (line no. 239-241) in tmvaglob.C\n",
      "--- --------------------------------------------------------------------\n"
     ]
    },
    {
     "name": "stderr",
     "output_type": "stream",
     "text": [
      "Info in <TCanvas::Print>: png file dataset/plots/mva_LikelihoodKDE.png has been created\n",
      "Warning in <TColor::TColor>: color 600 already defined\n",
      "Info in <TCanvas::Print>: eps file dataset/plots/mva_Fisher.eps has been created\n",
      "Info in <TCanvas::Print>: png file dataset/plots/mva_Fisher.png has been created\n"
     ]
    },
    {
     "name": "stdout",
     "output_type": "stream",
     "text": [
      "--- Found directory for method: BDT::BDT containing MVA_BDT_S/_B\n",
      "--- Mean and RMS (S): 0.149702, 0.137015\n",
      "--- Mean and RMS (B): -0.132466, 0.146823\n",
      "--- --------------------------------------------------------------------\n",
      "--- If you want to save the image as eps, gif or png, please comment out \n",
      "--- the corresponding lines (line no. 239-241) in tmvaglob.C\n",
      "--- --------------------------------------------------------------------\n"
     ]
    },
    {
     "name": "stderr",
     "output_type": "stream",
     "text": [
      "Warning in <TColor::TColor>: color 600 already defined\n",
      "Info in <TCanvas::Print>: eps file dataset/plots/mva_BDT.eps has been created\n"
     ]
    },
    {
     "name": "stdout",
     "output_type": "stream",
     "text": [
      "--- Found directory for method: MLP::MLP containing MVA_MLP_S/_B\n",
      "--- Mean and RMS (S): 0.767652, 0.247283\n",
      "--- Mean and RMS (B): 0.21845, 0.23594\n",
      "--- --------------------------------------------------------------------\n",
      "--- If you want to save the image as eps, gif or png, please comment out \n",
      "--- the corresponding lines (line no. 239-241) in tmvaglob.C\n",
      "--- --------------------------------------------------------------------\n"
     ]
    },
    {
     "name": "stderr",
     "output_type": "stream",
     "text": [
      "Info in <TCanvas::Print>: png file dataset/plots/mva_BDT.png has been created\n",
      "Warning in <TColor::TColor>: color 600 already defined\n",
      "Info in <TCanvas::Print>: eps file dataset/plots/mva_MLP.eps has been created\n",
      "Info in <TCanvas::Print>: png file dataset/plots/mva_MLP.png has been created\n"
     ]
    }
   ],
   "source": [
    "TMVA::mvas(dataset,fileName,TMVA::kMVAType);"
   ]
  },
  {
   "cell_type": "code",
   "execution_count": null,
   "metadata": {},
   "outputs": [],
   "source": [
    "%jsroot on"
   ]
  },
  {
   "cell_type": "markdown",
   "metadata": {},
   "source": [
    "#### Look at the created canvas\n",
    "\n",
    "we look at the created canvases and we retrieve the name to plot. \n",
    "We need just to use ``canvas_name->Draw()`` to plot it "
   ]
  },
  {
   "cell_type": "code",
   "execution_count": 3,
   "metadata": {},
   "outputs": [
    {
     "name": "stdout",
     "output_type": "stream",
     "text": [
      "Created  5 canvases with names:  \n",
      "--- canvas name :   canvas1\n",
      "--- canvas name :   canvas2\n",
      "--- canvas name :   canvas3\n",
      "--- canvas name :   canvas4\n",
      "--- canvas name :   canvas5\n"
     ]
    }
   ],
   "source": [
    "auto clist = gROOT->GetListOfCanvases();\n",
    "std::cout << \"Created  \" << clist->GetSize() << \" canvases with names:  \" << std::endl;\n",
    "for (auto *c : *clist) { \n",
    "    if (c->IsA() == TCanvas::Class()) {\n",
    "        std::cout << \"--- canvas name :   \" << c->GetName() << std::endl;\n",
    "    }\n",
    "}"
   ]
  },
  {
   "cell_type": "code",
   "execution_count": 4,
   "metadata": {},
   "outputs": [
    {
     "data": {
      "image/png": "[encoded data removed]",
      "text/plain": [
       "<IPython.core.display.Image object>"
      ]
     },
     "metadata": {},
     "output_type": "display_data"
    }
   ],
   "source": [
    "canvas1->Draw()"
   ]
  },
  {
   "cell_type": "code",
   "execution_count": null,
   "metadata": {},
   "outputs": [],
   "source": [
    "canvas3->Draw();"
   ]
  },
  {
   "cell_type": "code",
   "execution_count": null,
   "metadata": {},
   "outputs": [],
   "source": []
  }
 ],
 "metadata": {
  "kernelspec": {
   "display_name": "ROOT C++",
   "language": "c++",
   "name": "root"
  },
  "language_info": {
   "codemirror_mode": "text/x-c++src",
   "file_extension": ".C",
   "mimetype": " text/x-c++src",
   "name": "c++"
  }
 },
 "nbformat": 4,
 "nbformat_minor": 1
}
