{
 "cells": [
  {
   "cell_type": "code",
   "execution_count": 1,
   "metadata": {},
   "outputs": [
    {
     "name": "stdout",
     "output_type": "stream",
     "text": [
      "Welcome to JupyROOT 6.15/01\n"
     ]
    }
   ],
   "source": [
    "import ROOT\n",
    "from ROOT import TMVA\n",
    "\n",
    "import numpy as np"
   ]
  },
  {
   "cell_type": "code",
   "execution_count": 2,
   "metadata": {},
   "outputs": [
    {
     "name": "stdout",
     "output_type": "stream",
     "text": [
      "TFile**\t\tHiggs_data.root\t\n",
      " TFile*\t\tHiggs_data.root\t\n",
      "  KEY: TTree\tsig_tree;1\ttree\n",
      "  KEY: TTree\tbkg_tree;1\ttree\n"
     ]
    }
   ],
   "source": [
    "inputFile = ROOT.TFile(\"Higgs_data.root\")\n",
    "inputFile.ls()"
   ]
  },
  {
   "cell_type": "code",
   "execution_count": 3,
   "metadata": {},
   "outputs": [],
   "source": [
    "sig_evts = inputFile.sig_tree.AsMatrix(['m_jj','m_jjj','m_lv','m_jlv','m_bb','m_wbb','m_wwbb'])"
   ]
  },
  {
   "cell_type": "code",
   "execution_count": 4,
   "metadata": {},
   "outputs": [
    {
     "name": "stdout",
     "output_type": "stream",
     "text": [
      "[[1.35376    0.97956312 0.97807616 ... 0.72165745 0.98875093 0.87667835]\n",
      " [0.3022199  0.83304816 0.98569965 ... 0.77973217 0.99235576 0.79834259]\n",
      " [0.90975326 1.10833049 0.9856922  ... 0.8032515  0.86592442 0.78011757]\n",
      " ...\n",
      " [0.78733569 0.97868377 0.98237854 ... 0.96853018 0.93126822 0.91213906]\n",
      " [0.92211759 1.03808665 0.98750263 ... 0.46553683 0.80048835 0.80058527]\n",
      " [0.7312851  1.06170535 1.07203448 ... 0.87044066 1.11418879 0.96912521]]\n"
     ]
    }
   ],
   "source": [
    "print(sig_evts)"
   ]
  },
  {
   "cell_type": "code",
   "execution_count": 5,
   "metadata": {},
   "outputs": [],
   "source": [
    "bkg_evts = inputFile.bkg_tree.AsMatrix(['m_jj','m_jjj','m_lv','m_jlv','m_bb','m_wbb','m_wwbb'])"
   ]
  },
  {
   "cell_type": "code",
   "execution_count": 6,
   "metadata": {},
   "outputs": [
    {
     "name": "stdout",
     "output_type": "stream",
     "text": [
      "[[0.94665247 1.02870369 0.99865609 ... 0.86920023 1.0267365  0.95790398]\n",
      " [0.82376057 0.93819141 0.97175819 ... 0.43055329 0.96135694 0.95781791]\n",
      " [0.94453603 1.02626061 0.98219675 ... 1.25097895 0.83004463 0.76130795]\n",
      " ...\n",
      " [0.77256989 1.01168537 0.98482263 ... 1.05128407 0.86403567 0.76281738]\n",
      " [0.82492363 0.91738319 0.99552536 ... 3.95504141 2.08921599 1.56324244]\n",
      " [2.45921826 1.29498148 0.98175466 ... 0.51517493 0.95003647 0.92472702]]\n"
     ]
    }
   ],
   "source": [
    "print(bkg_evts)"
   ]
  },
  {
   "cell_type": "markdown",
   "metadata": {},
   "source": [
    "### Make Input data and target arrays\n",
    "Make array of target values. Traget = 1 for signal events and = 0 for background ones"
   ]
  },
  {
   "cell_type": "code",
   "execution_count": 7,
   "metadata": {},
   "outputs": [],
   "source": [
    "sig_target = np.arange(len(sig_evts), dtype='float')\n",
    "sig_target[0:len(sig_target)]=1.\n",
    "bkg_target = np.arange(len(bkg_evts), dtype='float')\n",
    "bkg_target[0:len(bkg_target)]=0."
   ]
  },
  {
   "cell_type": "code",
   "execution_count": 8,
   "metadata": {},
   "outputs": [],
   "source": [
    "## Use numpy function concatenate to append signal and backgorund arrays\n",
    "inputs = np.concatenate((sig_evts,bkg_evts))\n",
    "targets = np.concatenate((sig_target,bkg_target))"
   ]
  },
  {
   "cell_type": "markdown",
   "metadata": {},
   "source": [
    "#### Inspect  input distributions\n",
    "\n",
    "We look for example at some input distributions"
   ]
  },
  {
   "cell_type": "code",
   "execution_count": 9,
   "metadata": {},
   "outputs": [
    {
     "name": "stderr",
     "output_type": "stream",
     "text": [
      "Info in <TCanvas::MakeDefCanvas>:  created default TCanvas with name c1\n"
     ]
    },
    {
     "data": {
      "image/png": "[encoded data removed]",
      "text/plain": [
       "<IPython.core.display.Image object>"
      ]
     },
     "metadata": {},
     "output_type": "display_data"
    }
   ],
   "source": [
    "## we make an histogram of variable m_wbb (ivar=5)\n",
    "ivar = 5\n",
    "varName = \"m_wbb\"\n",
    "h1 = ROOT.TH1D(\"hs\",varName,100,1,0)\n",
    "h2 = ROOT.TH1D(\"hb\",varName + \" (background)\",100,1,0)\n",
    "dims = inputs.shape\n",
    "nevt = dims[0]\n",
    "for i in range(0,nevt):\n",
    "    if (targets[i] == 1.):\n",
    "        h1.Fill(inputs[i,ivar])\n",
    "    else:\n",
    "        h2.Fill(inputs[i,ivar])\n",
    "        \n",
    "        \n",
    "h1.SetLineColor(ROOT.kRed)\n",
    "h1.Draw()\n",
    "h2.Draw(\"SAME\")\n",
    "ROOT.gPad.BuildLegend()\n",
    "ROOT.gPad.Draw()"
   ]
  },
  {
   "cell_type": "markdown",
   "metadata": {},
   "source": [
    "### Run Keras "
   ]
  },
  {
   "cell_type": "code",
   "execution_count": 10,
   "metadata": {},
   "outputs": [
    {
     "name": "stderr",
     "output_type": "stream",
     "text": [
      "Using TensorFlow backend.\n"
     ]
    }
   ],
   "source": [
    "import numpy as np\n",
    "np.random.seed(1234)\n",
    "import os\n",
    "os.environ[\"KERAS_BACKEND\"] = \"tensorflow\"\n",
    "import subprocess\n",
    "import h5py\n",
    "import pickle\n",
    "\n",
    "from keras.models import Sequential\n",
    "from keras.layers.core import Dense, Dropout\n",
    "from keras.optimizers import Adam, SGD\n",
    "\n",
    "from sklearn.model_selection import train_test_split"
   ]
  },
  {
   "cell_type": "markdown",
   "metadata": {},
   "source": [
    "####  Use scikit-learn function to split data in test and training set"
   ]
  },
  {
   "cell_type": "code",
   "execution_count": 11,
   "metadata": {},
   "outputs": [],
   "source": [
    "inputs_train, inputs_test, targets_train, targets_test = train_test_split(\n",
    "        inputs, targets, test_size=0.10, random_state=123)"
   ]
  },
  {
   "cell_type": "code",
   "execution_count": 12,
   "metadata": {},
   "outputs": [
    {
     "name": "stdout",
     "output_type": "stream",
     "text": [
      "[1. 1. 0. ... 0. 0. 0.]\n"
     ]
    }
   ],
   "source": [
    "print(targets_train)"
   ]
  },
  {
   "cell_type": "markdown",
   "metadata": {},
   "source": [
    "#### Define the Keras model"
   ]
  },
  {
   "cell_type": "code",
   "execution_count": 44,
   "metadata": {},
   "outputs": [
    {
     "name": "stdout",
     "output_type": "stream",
     "text": [
      "_________________________________________________________________\n",
      "Layer (type)                 Output Shape              Param #   \n",
      "=================================================================\n",
      "dense_5 (Dense)              (None, 64)                512       \n",
      "_________________________________________________________________\n",
      "dense_6 (Dense)              (None, 64)                4160      \n",
      "_________________________________________________________________\n",
      "dense_7 (Dense)              (None, 64)                4160      \n",
      "_________________________________________________________________\n",
      "dense_8 (Dense)              (None, 1)                 65        \n",
      "=================================================================\n",
      "Total params: 8,897\n",
      "Trainable params: 8,897\n",
      "Non-trainable params: 0\n",
      "_________________________________________________________________\n"
     ]
    }
   ],
   "source": [
    "# Define model\n",
    "model = Sequential()\n",
    "model.add(Dense(64, kernel_initializer='glorot_normal', activation='tanh', input_dim=7))\n",
    "#model.add(Dropout(0.2))\n",
    "model.add(Dense(64, kernel_initializer='glorot_normal', activation='tanh'))\n",
    "#model.add(Dropout(0.2))\n",
    "model.add(Dense(64, kernel_initializer='glorot_normal', activation='tanh'))\n",
    "model.add(Dense(1, kernel_initializer='glorot_uniform', activation='sigmoid'))\n",
    "\n",
    "\n",
    "# Store model to file\n",
    "##model.save('model_dense.h5')\n",
    "\n",
    "# Print summary of model\n",
    "model.summary()"
   ]
  },
  {
   "cell_type": "code",
   "execution_count": 45,
   "metadata": {},
   "outputs": [],
   "source": [
    "# Set loss and optimizer\n",
    "model.compile(loss=\"binary_crossentropy\",optimizer=\"adam\",metrics=[\"accuracy\"])"
   ]
  },
  {
   "cell_type": "markdown",
   "metadata": {},
   "source": [
    "#### Train the Keras model"
   ]
  },
  {
   "cell_type": "markdown",
   "metadata": {},
   "source": [
    "#### Apply input variable transformations using scikit-learn\n",
    "\n",
    "We could transform input variable using some transformation from scikit-learn. \n",
    "For example we could use StandardScaler transformation from scikit.\n",
    "This transforms variable to be of mean zero and standard deviation=1\n",
    "\n",
    "Example code: (not used so far)\n",
    "\n",
    "```\n",
    "from sklearn.preprocessing import StandardScaler\n",
    "preprocessing_input = StandardScaler()\n",
    "preprocessing_input.fit(inputs_train)\n",
    "trans_inputs_train =  preprocessing_input.transform(inputs_train)\n",
    "```"
   ]
  },
  {
   "cell_type": "code",
   "execution_count": 15,
   "metadata": {},
   "outputs": [
    {
     "name": "stdout",
     "output_type": "stream",
     "text": [
      "Train on 12600 samples, validate on 5400 samples\n",
      "Epoch 1/20\n",
      "12600/12600 [==============================] - 0s 35us/step - loss: 0.6797 - acc: 0.5541 - val_loss: 0.6692 - val_acc: 0.5469\n",
      "Epoch 2/20\n",
      "12600/12600 [==============================] - 0s 16us/step - loss: 0.6612 - acc: 0.6002 - val_loss: 0.6517 - val_acc: 0.6180\n",
      "Epoch 3/20\n",
      "12600/12600 [==============================] - 0s 17us/step - loss: 0.6459 - acc: 0.6275 - val_loss: 0.6478 - val_acc: 0.6220\n",
      "Epoch 4/20\n",
      "12600/12600 [==============================] - 0s 16us/step - loss: 0.6376 - acc: 0.6372 - val_loss: 0.6371 - val_acc: 0.6406\n",
      "Epoch 5/20\n",
      "12600/12600 [==============================] - 0s 16us/step - loss: 0.6318 - acc: 0.6470 - val_loss: 0.6308 - val_acc: 0.6478\n",
      "Epoch 6/20\n",
      "12600/12600 [==============================] - 0s 16us/step - loss: 0.6285 - acc: 0.6479 - val_loss: 0.6268 - val_acc: 0.6469\n",
      "Epoch 7/20\n",
      "12600/12600 [==============================] - 0s 16us/step - loss: 0.6247 - acc: 0.6550 - val_loss: 0.6252 - val_acc: 0.6494\n",
      "Epoch 8/20\n",
      "12600/12600 [==============================] - 0s 17us/step - loss: 0.6228 - acc: 0.6564 - val_loss: 0.6291 - val_acc: 0.6556\n",
      "Epoch 9/20\n",
      "12600/12600 [==============================] - 0s 16us/step - loss: 0.6210 - acc: 0.6544 - val_loss: 0.6303 - val_acc: 0.6446\n",
      "Epoch 10/20\n",
      "12600/12600 [==============================] - 0s 16us/step - loss: 0.6194 - acc: 0.6590 - val_loss: 0.6297 - val_acc: 0.6467\n",
      "Epoch 11/20\n",
      "12600/12600 [==============================] - 0s 16us/step - loss: 0.6186 - acc: 0.6585 - val_loss: 0.6228 - val_acc: 0.6452\n",
      "Epoch 12/20\n",
      "12600/12600 [==============================] - 0s 16us/step - loss: 0.6166 - acc: 0.6601 - val_loss: 0.6326 - val_acc: 0.6437\n",
      "Epoch 13/20\n",
      "12600/12600 [==============================] - 0s 16us/step - loss: 0.6150 - acc: 0.6622 - val_loss: 0.6241 - val_acc: 0.6463\n",
      "Epoch 14/20\n",
      "12600/12600 [==============================] - 0s 16us/step - loss: 0.6120 - acc: 0.6660 - val_loss: 0.6190 - val_acc: 0.6544\n",
      "Epoch 15/20\n",
      "12600/12600 [==============================] - 0s 16us/step - loss: 0.6105 - acc: 0.6629 - val_loss: 0.6243 - val_acc: 0.6469\n",
      "Epoch 16/20\n",
      "12600/12600 [==============================] - 0s 16us/step - loss: 0.6101 - acc: 0.6671 - val_loss: 0.6152 - val_acc: 0.6633\n",
      "Epoch 17/20\n",
      "12600/12600 [==============================] - 0s 16us/step - loss: 0.6054 - acc: 0.6706 - val_loss: 0.6180 - val_acc: 0.6583\n",
      "Epoch 18/20\n",
      "12600/12600 [==============================] - 0s 16us/step - loss: 0.6035 - acc: 0.6724 - val_loss: 0.6110 - val_acc: 0.6620\n",
      "Epoch 19/20\n",
      "12600/12600 [==============================] - 0s 16us/step - loss: 0.6017 - acc: 0.6702 - val_loss: 0.6161 - val_acc: 0.6476\n",
      "Epoch 20/20\n",
      "12600/12600 [==============================] - 0s 16us/step - loss: 0.5977 - acc: 0.6752 - val_loss: 0.6103 - val_acc: 0.6643\n"
     ]
    },
    {
     "data": {
      "text/plain": [
       "<keras.callbacks.History at 0x7f92f8063910>"
      ]
     },
     "execution_count": 15,
     "metadata": {},
     "output_type": "execute_result"
    },
    {
     "name": "stderr",
     "output_type": "stream",
     "text": [
      "2018-09-19 16:57:26.243532: I tensorflow/core/platform/cpu_feature_guard.cc:140] Your CPU supports instructions that this TensorFlow binary was not compiled to use: SSE4.1 SSE4.2 AVX AVX2 FMA\n"
     ]
    }
   ],
   "source": [
    "model.fit(inputs_train,targets_train,batch_size=100,epochs=20,validation_split=0.30)\n",
    "#model.fit(trans_inputs_train,targets,batch_size=100,epochs=10,validation_split=0.30)"
   ]
  },
  {
   "cell_type": "markdown",
   "metadata": {},
   "source": [
    "#### Perform prediction with trained model using test set"
   ]
  },
  {
   "cell_type": "code",
   "execution_count": 16,
   "metadata": {},
   "outputs": [
    {
     "name": "stdout",
     "output_type": "stream",
     "text": [
      "[[0.47148266]\n",
      " [0.25130108]\n",
      " [0.55454135]\n",
      " ...\n",
      " [0.6441037 ]\n",
      " [0.37903833]\n",
      " [0.30268615]]\n"
     ]
    }
   ],
   "source": [
    "keras_out = model.predict(inputs_test)\n",
    "print(keras_out)"
   ]
  },
  {
   "cell_type": "code",
   "execution_count": 17,
   "metadata": {},
   "outputs": [
    {
     "data": {
      "image/png": "[encoded data removed]",
      "text/plain": [
       "<IPython.core.display.Image object>"
      ]
     },
     "metadata": {},
     "output_type": "display_data"
    }
   ],
   "source": [
    "pS = ROOT.TH1D(\"ps\",\"Score\",100,0,1)\n",
    "pB = ROOT.TH1D(\"pb\",\"Score (Background)\",100,0,1)\n",
    "for i in range (0,keras_out.shape[0]):\n",
    "    if (targets_test[i] == 1): \n",
    "        pS.Fill(keras_out[i,0])\n",
    "    else:\n",
    "        pB.Fill(keras_out[i,0])\n",
    "        \n",
    "pS.SetLineColor(ROOT.kRed)\n",
    "pS.Draw()\n",
    "pB.Draw('same')\n",
    "ROOT.gPad.Draw()"
   ]
  },
  {
   "cell_type": "markdown",
   "metadata": {},
   "source": [
    "#### Compute ROC "
   ]
  },
  {
   "cell_type": "code",
   "execution_count": 18,
   "metadata": {},
   "outputs": [
    {
     "name": "stdout",
     "output_type": "stream",
     "text": [
      "AUC: 0.737733859868\n"
     ]
    }
   ],
   "source": [
    "from sklearn import metrics\n",
    "\n",
    "##y_true = np.hstack((np.ones(quarks.GetEntries()), np.zeros(gluons.GetEntries())))\n",
    "##y_score = np.hstack((mvaValues_quarks, mvaValues_gluons))\n",
    "fpr, tpr, thresholds = metrics.roc_curve(targets_test, keras_out)\n",
    "\n",
    "# Get AUC from ROC\n",
    "auc = metrics.auc(fpr, tpr)\n",
    "print('AUC: {}'.format(auc))"
   ]
  },
  {
   "cell_type": "markdown",
   "metadata": {},
   "source": [
    "#### Save trained model in a file"
   ]
  },
  {
   "cell_type": "code",
   "execution_count": 25,
   "metadata": {},
   "outputs": [],
   "source": [
    "#model.save('trained_model_dense.h5')"
   ]
  },
  {
   "cell_type": "code",
   "execution_count": 26,
   "metadata": {},
   "outputs": [
    {
     "name": "stdout",
     "output_type": "stream",
     "text": [
      "[[1.01573563 0.89369214 1.11820185 ... 0.16855672 0.58038819 0.65353173]\n",
      " [0.95382494 1.230353   0.99021089 ... 0.81501591 1.10848105 0.93145901]\n",
      " [0.77363604 0.87485951 0.99559164 ... 0.59691745 0.83990759 1.19088554]\n",
      " ...\n",
      " [0.80430341 0.84451807 0.98065901 ... 0.8309204  0.90684873 0.75724876]\n",
      " [0.70365548 0.87700212 1.23832238 ... 5.19530678 2.71979046 2.0217638 ]\n",
      " [0.91426659 0.95217115 0.98160356 ... 1.3336854  1.31489611 1.27817643]]\n"
     ]
    }
   ],
   "source": [
    "print(inputs_train)"
   ]
  },
  {
   "cell_type": "markdown",
   "metadata": {},
   "source": [
    "### Use Decision Trees from scikit-learn\n",
    "\n",
    "We create a GradientBoostingClassifier. \n",
    "Look at the scikit documentation for all the possible options"
   ]
  },
  {
   "cell_type": "code",
   "execution_count": 51,
   "metadata": {},
   "outputs": [],
   "source": [
    "from sklearn import tree\n",
    "from sklearn import ensemble"
   ]
  },
  {
   "cell_type": "code",
   "execution_count": 52,
   "metadata": {},
   "outputs": [],
   "source": [
    "gtb = ensemble.GradientBoostingClassifier()"
   ]
  },
  {
   "cell_type": "code",
   "execution_count": 53,
   "metadata": {},
   "outputs": [],
   "source": [
    "gtb = gtb.fit(inputs_train, targets_train)"
   ]
  },
  {
   "cell_type": "code",
   "execution_count": 71,
   "metadata": {},
   "outputs": [],
   "source": [
    "gtb_out = gtb.predict_proba(inputs_test)"
   ]
  },
  {
   "cell_type": "code",
   "execution_count": 72,
   "metadata": {},
   "outputs": [
    {
     "name": "stdout",
     "output_type": "stream",
     "text": [
      "[[0.63320792 0.36679208]\n",
      " [0.82717954 0.17282046]\n",
      " [0.40019724 0.59980276]\n",
      " ...\n",
      " [0.32821198 0.67178802]\n",
      " [0.3480982  0.6519018 ]\n",
      " [0.54532526 0.45467474]]\n",
      "[0.36679208 0.17282046 0.59980276 ... 0.67178802 0.6519018  0.45467474]\n"
     ]
    }
   ],
   "source": [
    "print(gtb_out)\n",
    "out = gtb_out[:,1]\n",
    "print(out)"
   ]
  },
  {
   "cell_type": "code",
   "execution_count": 73,
   "metadata": {},
   "outputs": [
    {
     "name": "stderr",
     "output_type": "stream",
     "text": [
      "Warning in <TFile::Append>: Replacing existing TH1: score_sig (Potential memory leak).\n",
      "Warning in <TFile::Append>: Replacing existing TH1: score_bkg (Potential memory leak).\n"
     ]
    },
    {
     "data": {
      "image/png": "[encoded data removed]",
      "text/plain": [
       "<IPython.core.display.Image object>"
      ]
     },
     "metadata": {},
     "output_type": "display_data"
    }
   ],
   "source": [
    "pS = ROOT.TH1D(\"score_sig\",\"Score\",100,0,1)\n",
    "pB = ROOT.TH1D(\"score_bkg\",\"Score (Background)\",100,0,1)\n",
    "for i in range (0,out.shape[0]):\n",
    "    if (targets_test[i] == 1): \n",
    "        pS.Fill(out[i])\n",
    "    else:\n",
    "        pB.Fill(out[i])\n",
    "        \n",
    "pS.SetLineColor(ROOT.kRed)\n",
    "pS.Draw()\n",
    "pB.Draw('same')\n",
    "ROOT.gPad.Draw()"
   ]
  },
  {
   "cell_type": "code",
   "execution_count": 75,
   "metadata": {},
   "outputs": [
    {
     "name": "stdout",
     "output_type": "stream",
     "text": [
      "2000\n",
      " ROC Integral (AUC) =  0.767051865278\n"
     ]
    }
   ],
   "source": [
    "nevt = out.shape[0]\n",
    "print nevt\n",
    "ns=0\n",
    "nb=0\n",
    "vscores = ROOT.std.vector('float')(nevt)\n",
    "vtargets = ROOT.std.vector('bool')(nevt)\n",
    "for ievt in range(0,nevt): \n",
    "    #need to use second column\n",
    "    vscores[ievt] = out[ievt]\n",
    "    vtargets[ievt] = int(targets_test[ievt])\n",
    " \n",
    "        \n",
    "##print vtargets\n",
    "roc = ROOT.TMVA.ROCCurve(vscores,vtargets) \n",
    "print ' ROC Integral (AUC) = ',roc.GetROCIntegral()\n",
    "graph = roc.GetROCCurve()\n"
   ]
  },
  {
   "cell_type": "code",
   "execution_count": 76,
   "metadata": {},
   "outputs": [
    {
     "name": "stderr",
     "output_type": "stream",
     "text": [
      "Info in <TCanvas::Print>: pdf file graph.pdf has been created\n"
     ]
    }
   ],
   "source": [
    "c3 = ROOT.TCanvas()\n",
    "graph.Draw('AL')\n",
    "c3.SaveAs('graph.pdf')"
   ]
  },
  {
   "cell_type": "code",
   "execution_count": 77,
   "metadata": {},
   "outputs": [
    {
     "data": {
      "image/png": "[encoded data removed]",
      "text/plain": [
       "<IPython.core.display.Image object>"
      ]
     },
     "metadata": {},
     "output_type": "display_data"
    }
   ],
   "source": [
    "c3.Draw()"
   ]
  },
  {
   "cell_type": "code",
   "execution_count": 78,
   "metadata": {},
   "outputs": [
    {
     "name": "stdout",
     "output_type": "stream",
     "text": [
      "AUC: 0.766856315217\n"
     ]
    }
   ],
   "source": [
    "fpr, tpr, thresholds = metrics.roc_curve(targets_test, out)\n",
    "\n",
    "# Get AUC from ROC\n",
    "auc = metrics.auc(fpr, tpr)\n",
    "print('AUC: {}'.format(auc))"
   ]
  },
  {
   "cell_type": "code",
   "execution_count": null,
   "metadata": {},
   "outputs": [],
   "source": []
  }
 ],
 "metadata": {
  "kernelspec": {
   "display_name": "Python 2",
   "language": "python",
   "name": "python2"
  },
  "language_info": {
   "codemirror_mode": {
    "name": "ipython",
    "version": 2
   },
   "file_extension": ".py",
   "mimetype": "text/x-python",
   "name": "python",
   "nbconvert_exporter": "python",
   "pygments_lexer": "ipython2",
   "version": "2.7.15"
  }
 },
 "nbformat": 4,
 "nbformat_minor": 1
}
