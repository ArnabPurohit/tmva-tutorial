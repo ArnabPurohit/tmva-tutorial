{
 "cells": [
  {
   "cell_type": "markdown",
   "metadata": {},
   "source": [
    "<img src=\"http://oproject.org/tiki-download_file.php?fileId=8&display&x=450&y=128\">\n",
    "<img src=\"http://files.oproject.org/tmvalogo.png\" height=\"50%\" width=\"50%\">\n",
    "\n",
    "# TMVA  Reader Example \n",
    "\n",
    "#### Example of applying the trained classified of TMVA on a data set and evaluate the classifier"
   ]
  },
  {
   "cell_type": "code",
   "execution_count": 1,
   "metadata": {
    "collapsed": false
   },
   "outputs": [],
   "source": [
    "TMVA::Tools::Instance();"
   ]
  },
  {
   "cell_type": "markdown",
   "metadata": {},
   "source": [
    "### Choose TMVA method to evaluate"
   ]
  },
  {
   "cell_type": "code",
   "execution_count": 2,
   "metadata": {
    "collapsed": false
   },
   "outputs": [
    {
     "name": "stdout",
     "output_type": "stream",
     "text": [
      "(std::vector<TString> &) { @0x7f93f7bc9570, @0x7f93f7bc9588 }\n"
     ]
    }
   ],
   "source": [
    "std::vector<TString> methodNames = {\"BDT\",\"DL_CPU\"}"
   ]
  },
  {
   "cell_type": "markdown",
   "metadata": {},
   "source": [
    "###  Give input file \n"
   ]
  },
  {
   "cell_type": "code",
   "execution_count": 3,
   "metadata": {
    "collapsed": true
   },
   "outputs": [],
   "source": [
    "TFile * inputFile = TFile::Open(\"Higgs_data.root\");"
   ]
  },
  {
   "cell_type": "code",
   "execution_count": 4,
   "metadata": {
    "collapsed": false
   },
   "outputs": [
    {
     "name": "stdout",
     "output_type": "stream",
     "text": [
      "TFile**\t\tHiggs_data.root\t\n",
      " TFile*\t\tHiggs_data.root\t\n",
      "  KEY: TTree\tsig_tree;1\ttree\n",
      "  KEY: TTree\tbkg_tree;1\ttree\n"
     ]
    }
   ],
   "source": [
    "inputFile->ls();\n"
   ]
  },
  {
   "cell_type": "code",
   "execution_count": 5,
   "metadata": {
    "collapsed": false
   },
   "outputs": [
    {
     "name": "stdout",
     "output_type": "stream",
     "text": [
      "******************************************************************************\n",
      "*Tree    :sig_tree  : tree                                                   *\n",
      "*Entries :    10000 : Total =         1177229 bytes  File  Size =     785298 *\n",
      "*        :          : Tree compression factor =   1.48                       *\n",
      "******************************************************************************\n",
      "*Br    0 :Type      : Type/F                                                 *\n",
      "*Entries :    10000 : Total  Size=      40556 bytes  File Size  =        307 *\n",
      "*Baskets :        1 : Basket Size=    1500672 bytes  Compression= 130.54     *\n",
      "*............................................................................*\n",
      "*Br    1 :lepton_pT : lepton_pT/F                                            *\n",
      "*Entries :    10000 : Total  Size=      40581 bytes  File Size  =      30464 *\n",
      "*Baskets :        1 : Basket Size=    1500672 bytes  Compression=   1.32     *\n",
      "*............................................................................*\n",
      "*Br    2 :lepton_eta : lepton_eta/F                                          *\n",
      "*Entries :    10000 : Total  Size=      40586 bytes  File Size  =      28650 *\n",
      "*Baskets :        1 : Basket Size=    1500672 bytes  Compression=   1.40     *\n",
      "*............................................................................*\n",
      "*Br    3 :lepton_phi : lepton_phi/F                                          *\n",
      "*Entries :    10000 : Total  Size=      40586 bytes  File Size  =      30508 *\n",
      "*Baskets :        1 : Basket Size=    1500672 bytes  Compression=   1.31     *\n",
      "*............................................................................*\n",
      "*Br    4 :missing_energy_magnitude : missing_energy_magnitude/F              *\n",
      "*Entries :    10000 : Total  Size=      40656 bytes  File Size  =      35749 *\n",
      "*Baskets :        1 : Basket Size=    1500672 bytes  Compression=   1.12     *\n",
      "*............................................................................*\n",
      "*Br    5 :missing_energy_phi : missing_energy_phi/F                          *\n",
      "*Entries :    10000 : Total  Size=      40626 bytes  File Size  =      36766 *\n",
      "*Baskets :        1 : Basket Size=    1500672 bytes  Compression=   1.09     *\n",
      "*............................................................................*\n",
      "*Br    6 :jet1_pt   : jet1_pt/F                                              *\n",
      "*Entries :    10000 : Total  Size=      40571 bytes  File Size  =      32298 *\n",
      "*Baskets :        1 : Basket Size=    1500672 bytes  Compression=   1.24     *\n",
      "*............................................................................*\n",
      "*Br    7 :jet1_eta  : jet1_eta/F                                             *\n",
      "*Entries :    10000 : Total  Size=      40576 bytes  File Size  =      28467 *\n",
      "*Baskets :        1 : Basket Size=    1500672 bytes  Compression=   1.41     *\n",
      "*............................................................................*\n",
      "*Br    8 :jet1_phi  : jet1_phi/F                                             *\n",
      "*Entries :    10000 : Total  Size=      40576 bytes  File Size  =      30399 *\n",
      "*Baskets :        1 : Basket Size=    1500672 bytes  Compression=   1.32     *\n",
      "*............................................................................*\n",
      "*Br    9 :jet1_b-tag : jet1_b-tag/F                                          *\n",
      "*Entries :    10000 : Total  Size=      40586 bytes  File Size  =       5087 *\n",
      "*Baskets :        1 : Basket Size=    1500672 bytes  Compression=   7.88     *\n",
      "*............................................................................*\n",
      "*Br   10 :jet2_pt   : jet2_pt/F                                              *\n",
      "*Entries :    10000 : Total  Size=      40571 bytes  File Size  =      31561 *\n",
      "*Baskets :        1 : Basket Size=    1500672 bytes  Compression=   1.27     *\n",
      "*............................................................................*\n",
      "*Br   11 :jet2_eta  : jet2_eta/F                                             *\n",
      "*Entries :    10000 : Total  Size=      40576 bytes  File Size  =      28616 *\n",
      "*Baskets :        1 : Basket Size=    1500672 bytes  Compression=   1.40     *\n",
      "*............................................................................*\n",
      "*Br   12 :jet2_phi  : jet2_phi/F                                             *\n",
      "*Entries :    10000 : Total  Size=      40576 bytes  File Size  =      30547 *\n",
      "*Baskets :        1 : Basket Size=    1500672 bytes  Compression=   1.31     *\n",
      "*............................................................................*\n",
      "*Br   13 :jet2_b-tag : jet2_b-tag/F                                          *\n",
      "*Entries :    10000 : Total  Size=      40586 bytes  File Size  =       5031 *\n",
      "*Baskets :        1 : Basket Size=    1500672 bytes  Compression=   7.97     *\n",
      "*............................................................................*\n",
      "*Br   14 :jet3_pt   : jet3_pt/F                                              *\n",
      "*Entries :    10000 : Total  Size=      40571 bytes  File Size  =      30642 *\n",
      "*Baskets :        1 : Basket Size=    1500672 bytes  Compression=   1.31     *\n",
      "*............................................................................*\n",
      "*Br   15 :jet3_eta  : jet3_eta/F                                             *\n",
      "*Entries :    10000 : Total  Size=      40576 bytes  File Size  =      28955 *\n",
      "*Baskets :        1 : Basket Size=    1500672 bytes  Compression=   1.38     *\n",
      "*............................................................................*\n",
      "*Br   16 :jet3_phi  : jet3_phi/F                                             *\n",
      "*Entries :    10000 : Total  Size=      40576 bytes  File Size  =      30433 *\n",
      "*Baskets :        1 : Basket Size=    1500672 bytes  Compression=   1.32     *\n",
      "*............................................................................*\n",
      "*Br   17 :jet3_b-tag : jet3_b-tag/F                                          *\n",
      "*Entries :    10000 : Total  Size=      40586 bytes  File Size  =       4879 *\n",
      "*Baskets :        1 : Basket Size=    1500672 bytes  Compression=   8.22     *\n",
      "*............................................................................*\n",
      "*Br   18 :jet4_pt   : jet4_pt/F                                              *\n",
      "*Entries :    10000 : Total  Size=      40571 bytes  File Size  =      29189 *\n",
      "*Baskets :        1 : Basket Size=    1500672 bytes  Compression=   1.37     *\n",
      "*............................................................................*\n",
      "*Br   19 :jet4_eta  : jet4_eta/F                                             *\n",
      "*Entries :    10000 : Total  Size=      40576 bytes  File Size  =      29311 *\n",
      "*Baskets :        1 : Basket Size=    1500672 bytes  Compression=   1.37     *\n",
      "*............................................................................*\n",
      "*Br   20 :jet4_phi  : jet4_phi/F                                             *\n",
      "*Entries :    10000 : Total  Size=      40576 bytes  File Size  =      30525 *\n",
      "*Baskets :        1 : Basket Size=    1500672 bytes  Compression=   1.31     *\n",
      "*............................................................................*\n",
      "*Br   21 :jet4_b-tag : jet4_b-tag/F                                          *\n",
      "*Entries :    10000 : Total  Size=      40586 bytes  File Size  =       4725 *\n",
      "*Baskets :        1 : Basket Size=    1500672 bytes  Compression=   8.48     *\n",
      "*............................................................................*\n",
      "*Br   22 :m_jj      : m_jj/F                                                 *\n",
      "*Entries :    10000 : Total  Size=      40556 bytes  File Size  =      34991 *\n",
      "*Baskets :        1 : Basket Size=    1500672 bytes  Compression=   1.15     *\n",
      "*............................................................................*\n",
      "*Br   23 :m_jjj     : m_jjj/F                                                *\n",
      "*Entries :    10000 : Total  Size=      40561 bytes  File Size  =      34460 *\n",
      "*Baskets :        1 : Basket Size=    1500672 bytes  Compression=   1.16     *\n",
      "*............................................................................*\n",
      "*Br   24 :m_lv      : m_lv/F                                                 *\n",
      "*Entries :    10000 : Total  Size=      40556 bytes  File Size  =      32232 *\n",
      "*Baskets :        1 : Basket Size=    1500672 bytes  Compression=   1.24     *\n",
      "*............................................................................*\n",
      "*Br   25 :m_jlv     : m_jlv/F                                                *\n",
      "*Entries :    10000 : Total  Size=      40561 bytes  File Size  =      34598 *\n",
      "*Baskets :        1 : Basket Size=    1500672 bytes  Compression=   1.16     *\n",
      "*............................................................................*\n",
      "*Br   26 :m_bb      : m_bb/F                                                 *\n",
      "*Entries :    10000 : Total  Size=      40556 bytes  File Size  =      35012 *\n",
      "*Baskets :        1 : Basket Size=    1500672 bytes  Compression=   1.14     *\n",
      "*............................................................................*\n",
      "*Br   27 :m_wbb     : m_wbb/F                                                *\n",
      "*Entries :    10000 : Total  Size=      40561 bytes  File Size  =      34493 *\n",
      "*Baskets :        1 : Basket Size=    1500672 bytes  Compression=   1.16     *\n",
      "*............................................................................*\n",
      "*Br   28 :m_wwbb    : m_wwbb/F                                               *\n",
      "*Entries :    10000 : Total  Size=      40566 bytes  File Size  =      34410 *\n",
      "*Baskets :        1 : Basket Size=    1500672 bytes  Compression=   1.16     *\n",
      "*............................................................................*\n"
     ]
    }
   ],
   "source": [
    "auto sig_tree = (TTree*) inputFile->Get(\"sig_tree\");\n",
    "auto bkg_tree = (TTree*) inputFile->Get(\"bkg_tree\");\n",
    "sig_tree->Print(); "
   ]
  },
  {
   "cell_type": "markdown",
   "metadata": {},
   "source": [
    "### Declare Reader\n"
   ]
  },
  {
   "cell_type": "code",
   "execution_count": 6,
   "metadata": {
    "collapsed": true
   },
   "outputs": [],
   "source": [
    "\n",
    "TMVA::Reader reader( \"!Color:!Silent\" );\n"
   ]
  },
  {
   "cell_type": "markdown",
   "metadata": {},
   "source": [
    "### Add Variable\n",
    "\n",
    "We add variables to the reader exactly in the same way we did for the **DataLoader** during the training\n",
    "\n",
    "We need to specify the address of the variable in order to pass it to TMVA when we iterate on the TTree\n"
   ]
  },
  {
   "cell_type": "code",
   "execution_count": 7,
   "metadata": {
    "collapsed": true
   },
   "outputs": [],
   "source": [
    "float m_jj, m_jjj, m_lv, m_jlv, m_bb, m_wbb, m_wwbb; "
   ]
  },
  {
   "cell_type": "code",
   "execution_count": 8,
   "metadata": {
    "collapsed": true
   },
   "outputs": [],
   "source": [
    "// add variables \n",
    "reader.AddVariable(\"m_jj\",&m_jj);\n",
    "reader.AddVariable(\"m_jjj\",&m_jjj);\n",
    "reader.AddVariable(\"m_lv\",&m_lv);\n",
    "reader.AddVariable(\"m_jlv\",&m_jlv);\n",
    "reader.AddVariable(\"m_bb\",&m_bb);\n",
    "reader.AddVariable(\"m_wbb\",&m_wbb);\n",
    "reader.AddVariable(\"m_wwbb\",&m_wwbb);"
   ]
  },
  {
   "cell_type": "markdown",
   "metadata": {},
   "source": [
    "## Setup Classifiers\n",
    "\n",
    "We set up the classifiers by reading the input weights from the appropriate files\n",
    "\n",
    "The file is stored for example as \n",
    "\n",
    "####  *dataset/weights/TMVAClassification_BDT.weights.xml"
   ]
  },
  {
   "cell_type": "code",
   "execution_count": 9,
   "metadata": {
    "collapsed": false
   },
   "outputs": [
    {
     "name": "stdout",
     "output_type": "stream",
     "text": [
      "                         : Booking \"BDT\" of type \"BDT\" from dataset/weights/TMVA_Higgs_Classification_BDT.weights.xml.\n",
      "                         : Reading weight file: dataset/weights/TMVA_Higgs_Classification_BDT.weights.xml\n",
      "<HEADER> DataSetInfo              : [Default] : Added class \"Signal\"\n",
      "<HEADER> DataSetInfo              : [Default] : Added class \"Background\"\n",
      "                         : Booked classifier \"BDT\" of type: \"BDT\"\n",
      "                         : Booking \"DL_CPU\" of type \"DL\" from dataset/weights/TMVA_Higgs_Classification_DL_CPU.weights.xml.\n",
      "                         : Reading weight file: dataset/weights/TMVA_Higgs_Classification_DL_CPU.weights.xml\n",
      "                         : Booked classifier \"DL_CPU\" of type: \"DL\"\n"
     ]
    }
   ],
   "source": [
    "for (size_t i = 0; i < methodNames.size(); ++i) { \n",
    "   TString weightfile = \"dataset/weights/TMVA_Higgs_Classification_\" + methodNames[i] + \".weights.xml\";\n",
    "   reader.BookMVA( methodNames[i], weightfile );\n",
    "}"
   ]
  },
  {
   "cell_type": "code",
   "execution_count": null,
   "metadata": {
    "collapsed": false
   },
   "outputs": [],
   "source": []
  },
  {
   "cell_type": "markdown",
   "metadata": {},
   "source": [
    "### Book histogram to visualize the response"
   ]
  },
  {
   "cell_type": "code",
   "execution_count": 11,
   "metadata": {
    "collapsed": false
   },
   "outputs": [],
   "source": [
    "auto h1 = new TH1D(\"h1\",\"Classifier Output on Background Events\",100,-1,1);\n",
    "auto h2 = new TH1D(\"h2\",\"Classifier Output on Signal Events\",100,-1,1);\n",
    "std::vector<std::vector<float>> vout(methodNames.size());"
   ]
  },
  {
   "cell_type": "markdown",
   "metadata": {},
   "source": [
    "## Iterate on the events from the input TTree "
   ]
  },
  {
   "cell_type": "code",
   "execution_count": 14,
   "metadata": {
    "collapsed": false
   },
   "outputs": [],
   "source": [
    "auto readEvents = [&](TTree & tree, TH1 & histo) {\n",
    "  tree.SetBranchAddress(\"m_jj\",&m_jj);\n",
    "  tree.SetBranchAddress(\"m_jjj\",&m_jjj);\n",
    "  tree.SetBranchAddress(\"m_lv\",&m_lv) ;\n",
    "  tree.SetBranchAddress(\"m_jlv\",&m_jlv);\n",
    "  tree.SetBranchAddress(\"m_bb\",&m_bb);\n",
    "  tree.SetBranchAddress(\"m_wbb\",&m_wbb);\n",
    "  tree.SetBranchAddress(\"m_wwbb\",&m_wwbb);\n",
    "  for (size_t i = 0; i < methodNames.size(); ++i ) {\n",
    "    vout[i].clear(); \n",
    "    vout[i].resize(tree.GetEntries());\n",
    "  }\n",
    "  for (Long64_t ievt=0; ievt < tree.GetEntries();ievt++) {\n",
    "\n",
    "      if (ievt%500 == 0) std::cout << \"--- ... Processing event: \" << ievt << std::endl;\n",
    "\n",
    "      tree.GetEntry(ievt);\n",
    "      \n",
    "      for (size_t i = 0; i < methodNames.size(); ++i ) {\n",
    "    \n",
    "         auto output = reader.EvaluateMVA(methodNames[i]);\n",
    "  \n",
    "         vout[i][ievt] = output;  \n",
    "      }\n",
    "  }\n",
    "};\n",
    "    "
   ]
  },
  {
   "cell_type": "markdown",
   "metadata": {},
   "source": [
    "### Evaluation of the classifier on the given input events\n",
    "\n",
    "We iterate on the input event in the given TTree. We provide as input first the background tree \n",
    "We need first to define the branches we are reading from the trees and then we can read the events calling \n",
    "the readEvents function we have defined before"
   ]
  },
  {
   "cell_type": "code",
   "execution_count": 15,
   "metadata": {
    "collapsed": false
   },
   "outputs": [
    {
     "name": "stdout",
     "output_type": "stream",
     "text": [
      "--- ... Processing event: 0\n",
      "--- ... Processing event: 500\n",
      "--- ... Processing event: 1000\n",
      "--- ... Processing event: 1500\n",
      "--- ... Processing event: 2000\n",
      "--- ... Processing event: 2500\n",
      "--- ... Processing event: 3000\n",
      "--- ... Processing event: 3500\n",
      "--- ... Processing event: 4000\n",
      "--- ... Processing event: 4500\n",
      "--- ... Processing event: 5000\n",
      "--- ... Processing event: 5500\n",
      "--- ... Processing event: 6000\n",
      "--- ... Processing event: 6500\n",
      "--- ... Processing event: 7000\n",
      "--- ... Processing event: 7500\n",
      "--- ... Processing event: 8000\n",
      "--- ... Processing event: 8500\n",
      "--- ... Processing event: 9000\n",
      "--- ... Processing event: 9500\n"
     ]
    }
   ],
   "source": [
    "// read events and fill histogram\n",
    "readEvents(*bkg_tree,*h1); "
   ]
  },
  {
   "cell_type": "code",
   "execution_count": 16,
   "metadata": {
    "collapsed": true
   },
   "outputs": [],
   "source": [
    "std::vector<std::vector<float>> bkg_results = vout; "
   ]
  },
  {
   "cell_type": "code",
   "execution_count": null,
   "metadata": {
    "collapsed": false,
    "scrolled": true
   },
   "outputs": [],
   "source": []
  },
  {
   "cell_type": "markdown",
   "metadata": {},
   "source": [
    "### Evaluation on the signal  events\n",
    "\n",
    "We evaluate now the classifier on the another tree (e.g. the signal events)\n",
    "\n"
   ]
  },
  {
   "cell_type": "code",
   "execution_count": 17,
   "metadata": {
    "collapsed": false
   },
   "outputs": [
    {
     "name": "stdout",
     "output_type": "stream",
     "text": [
      "--- ... Processing event: 0\n",
      "--- ... Processing event: 500\n",
      "--- ... Processing event: 1000\n",
      "--- ... Processing event: 1500\n",
      "--- ... Processing event: 2000\n",
      "--- ... Processing event: 2500\n",
      "--- ... Processing event: 3000\n",
      "--- ... Processing event: 3500\n",
      "--- ... Processing event: 4000\n",
      "--- ... Processing event: 4500\n",
      "--- ... Processing event: 5000\n",
      "--- ... Processing event: 5500\n",
      "--- ... Processing event: 6000\n",
      "--- ... Processing event: 6500\n",
      "--- ... Processing event: 7000\n",
      "--- ... Processing event: 7500\n",
      "--- ... Processing event: 8000\n",
      "--- ... Processing event: 8500\n",
      "--- ... Processing event: 9000\n",
      "--- ... Processing event: 9500\n"
     ]
    }
   ],
   "source": [
    "readEvents(*sig_tree,*h2); "
   ]
  },
  {
   "cell_type": "code",
   "execution_count": 18,
   "metadata": {
    "collapsed": true
   },
   "outputs": [],
   "source": [
    "std::vector<std::vector<float>> sig_results = vout; "
   ]
  },
  {
   "cell_type": "code",
   "execution_count": null,
   "metadata": {
    "collapsed": false
   },
   "outputs": [],
   "source": []
  },
  {
   "cell_type": "markdown",
   "metadata": {},
   "source": [
    "## Make ROC plot"
   ]
  },
  {
   "cell_type": "code",
   "execution_count": 23,
   "metadata": {
    "collapsed": false
   },
   "outputs": [
    {
     "name": "stderr",
     "output_type": "stream",
     "text": [
      "\u001b[1minput_line_115:6:96: \u001b[0m\u001b[0;1;31merror: \u001b[0m\u001b[1mreference to overloaded function could not be resolved; did you mean to call it?\u001b[0m\n",
      "    std::cout << \"method \" << methodNames[i] << \" ROC integral = \" << roc->GetROCIntegral() << std::end;\n",
      "\u001b[0;1;32m                                                                                               ^~~~~~~~\n",
      "\u001b[0m\u001b[1m/Applications/Xcode.app/Contents/Developer/Toolchains/XcodeDefault.xctoolchain/usr/bin/../include/c++/v1/initializer_list:109:1: \u001b[0m\u001b[0;1;30mnote: \u001b[0mpossible target for call\u001b[0m\n",
      "end(initializer_list<_Ep> __il) _NOEXCEPT\n",
      "\u001b[0;1;32m^\n",
      "\u001b[0m\u001b[1m/Applications/Xcode.app/Contents/Developer/Toolchains/XcodeDefault.xctoolchain/usr/bin/../include/c++/v1/iterator:1418:1: \u001b[0m\u001b[0;1;30mnote: \u001b[0mpossible target for call\u001b[0m\n",
      "end(_Tp (&__array)[_Np])\n",
      "\u001b[0;1;32m^\n",
      "\u001b[0m\u001b[1m/Applications/Xcode.app/Contents/Developer/Toolchains/XcodeDefault.xctoolchain/usr/bin/../include/c++/v1/iterator:1444:1: \u001b[0m\u001b[0;1;30mnote: \u001b[0mpossible target for call\u001b[0m\n",
      "end(_Cp& __c) -> decltype(__c.end())\n",
      "\u001b[0;1;32m^\n",
      "\u001b[0m\u001b[1m/Applications/Xcode.app/Contents/Developer/Toolchains/XcodeDefault.xctoolchain/usr/bin/../include/c++/v1/iterator:1452:1: \u001b[0m\u001b[0;1;30mnote: \u001b[0mpossible target for call\u001b[0m\n",
      "end(const _Cp& __c) -> decltype(__c.end())\n",
      "\u001b[0;1;32m^\n",
      "\u001b[0m\u001b[1m/Applications/Xcode.app/Contents/Developer/Toolchains/XcodeDefault.xctoolchain/usr/bin/../include/c++/v1/valarray:4866:1: \u001b[0m\u001b[0;1;30mnote: \u001b[0mpossible target for call\u001b[0m\n",
      "end(valarray<_Tp>& __v)\n",
      "\u001b[0;1;32m^\n",
      "\u001b[0m\u001b[1m/Applications/Xcode.app/Contents/Developer/Toolchains/XcodeDefault.xctoolchain/usr/bin/../include/c++/v1/valarray:4874:1: \u001b[0m\u001b[0;1;30mnote: \u001b[0mpossible target for call\u001b[0m\n",
      "end(const valarray<_Tp>& __v)\n",
      "\u001b[0;1;32m^\n",
      "\u001b[0m\u001b[1m/Applications/Xcode.app/Contents/Developer/Toolchains/XcodeDefault.xctoolchain/usr/bin/../include/c++/v1/ostream:207:20: \u001b[0m\u001b[0;1;30mnote: \u001b[0mcandidate function not viable: no overload of 'end' matching 'const void *' for 1st argument\u001b[0m\n",
      "    basic_ostream& operator<<(const void* __p);\n",
      "\u001b[0;1;32m                   ^\n",
      "\u001b[0m\u001b[1m/Applications/Xcode.app/Contents/Developer/Toolchains/XcodeDefault.xctoolchain/usr/bin/../include/c++/v1/ostream:191:20: \u001b[0m\u001b[0;1;30mnote: \u001b[0mcandidate function not viable: no overload of 'end' matching 'std::__1::basic_ostream<char> &(*)(std::__1::basic_ostream<char> &)' for 1st argument\u001b[0m\n",
      "    basic_ostream& operator<<(basic_ostream& (*__pf)(basic_ostream&));\n",
      "\u001b[0;1;32m                   ^\n",
      "\u001b[0m\u001b[1m/Applications/Xcode.app/Contents/Developer/Toolchains/XcodeDefault.xctoolchain/usr/bin/../include/c++/v1/ostream:192:20: \u001b[0m\u001b[0;1;30mnote: \u001b[0mcandidate function not viable: no overload of 'end' matching 'basic_ios<std::__1::basic_ostream<char, std::__1::char_traits<char> >::char_type, std::__1::basic_ostream<char,\n",
      "      std::__1::char_traits<char> >::traits_type> &(*)(basic_ios<std::__1::basic_ostream<char, std::__1::char_traits<char> >::char_type, std::__1::basic_ostream<char,\n",
      "      std::__1::char_traits<char> >::traits_type> &)' (aka 'basic_ios<char, std::__1::char_traits<char> > &(*)(basic_ios<char, std::__1::char_traits<char> > &)') for 1st argument\u001b[0m\n",
      "    basic_ostream& operator<<(basic_ios<char_type, traits_type>&\n",
      "\u001b[0;1;32m                   ^\n",
      "\u001b[0m\u001b[1m/Applications/Xcode.app/Contents/Developer/Toolchains/XcodeDefault.xctoolchain/usr/bin/../include/c++/v1/ostream:194:20: \u001b[0m\u001b[0;1;30mnote: \u001b[0mcandidate function not viable: no overload of 'end' matching 'std::__1::ios_base &(*)(std::__1::ios_base &)' for 1st argument\u001b[0m\n",
      "    basic_ostream& operator<<(ios_base& (*__pf)(ios_base&));\n",
      "\u001b[0;1;32m                   ^\n",
      "\u001b[0m\u001b[1m/Applications/Xcode.app/Contents/Developer/Toolchains/XcodeDefault.xctoolchain/usr/bin/../include/c++/v1/ostream:195:20: \u001b[0m\u001b[0;1;30mnote: \u001b[0mcandidate function not viable: no overload of 'end' matching 'bool' for 1st argument\u001b[0m\n",
      "    basic_ostream& operator<<(bool __n);\n",
      "\u001b[0;1;32m                   ^\n",
      "\u001b[0m\u001b[1m/Applications/Xcode.app/Contents/Developer/Toolchains/XcodeDefault.xctoolchain/usr/bin/../include/c++/v1/ostream:196:20: \u001b[0m\u001b[0;1;30mnote: \u001b[0mcandidate function not viable: no overload of 'end' matching 'short' for 1st argument\u001b[0m\n",
      "    basic_ostream& operator<<(short __n);\n",
      "\u001b[0;1;32m                   ^\n",
      "\u001b[0m\u001b[1m/Applications/Xcode.app/Contents/Developer/Toolchains/XcodeDefault.xctoolchain/usr/bin/../include/c++/v1/ostream:197:20: \u001b[0m\u001b[0;1;30mnote: \u001b[0mcandidate function not viable: no overload of 'end' matching 'unsigned short' for 1st argument\u001b[0m\n",
      "    basic_ostream& operator<<(unsigned short __n);\n",
      "\u001b[0;1;32m                   ^\n",
      "\u001b[0m\u001b[1m/Applications/Xcode.app/Contents/Developer/Toolchains/XcodeDefault.xctoolchain/usr/bin/../include/c++/v1/ostream:198:20: \u001b[0m\u001b[0;1;30mnote: \u001b[0mcandidate function not viable: no overload of 'end' matching 'int' for 1st argument\u001b[0m\n",
      "    basic_ostream& operator<<(int __n);\n",
      "\u001b[0;1;32m                   ^\n",
      "\u001b[0m\u001b[1m/Applications/Xcode.app/Contents/Developer/Toolchains/XcodeDefault.xctoolchain/usr/bin/../include/c++/v1/ostream:199:20: \u001b[0m\u001b[0;1;30mnote: \u001b[0mcandidate function not viable: no overload of 'end' matching 'unsigned int' for 1st argument\u001b[0m\n",
      "    basic_ostream& operator<<(unsigned int __n);\n",
      "\u001b[0;1;32m                   ^\n",
      "\u001b[0m\u001b[1m/Applications/Xcode.app/Contents/Developer/Toolchains/XcodeDefault.xctoolchain/usr/bin/../include/c++/v1/ostream:200:20: \u001b[0m\u001b[0;1;30mnote: \u001b[0mcandidate function not viable: no overload of 'end' matching 'long' for 1st argument\u001b[0m\n",
      "    basic_ostream& operator<<(long __n);\n",
      "\u001b[0;1;32m                   ^\n",
      "\u001b[0m\u001b[1m/Applications/Xcode.app/Contents/Developer/Toolchains/XcodeDefault.xctoolchain/usr/bin/../include/c++/v1/ostream:201:20: \u001b[0m\u001b[0;1;30mnote: \u001b[0mcandidate function not viable: no overload of 'end' matching 'unsigned long' for 1st argument\u001b[0m\n",
      "    basic_ostream& operator<<(unsigned long __n);\n",
      "\u001b[0;1;32m                   ^\n",
      "\u001b[0m\u001b[1m/Applications/Xcode.app/Contents/Developer/Toolchains/XcodeDefault.xctoolchain/usr/bin/../include/c++/v1/ostream:202:20: \u001b[0m\u001b[0;1;30mnote: \u001b[0mcandidate function not viable: no overload of 'end' matching 'long long' for 1st argument\u001b[0m\n",
      "    basic_ostream& operator<<(long long __n);\n",
      "\u001b[0;1;32m                   ^\n",
      "\u001b[0m\u001b[1m/Applications/Xcode.app/Contents/Developer/Toolchains/XcodeDefault.xctoolchain/usr/bin/../include/c++/v1/ostream:203:20: \u001b[0m\u001b[0;1;30mnote: \u001b[0mcandidate function not viable: no overload of 'end' matching 'unsigned long long' for 1st argument\u001b[0m\n",
      "    basic_ostream& operator<<(unsigned long long __n);\n",
      "\u001b[0;1;32m                   ^\n",
      "\u001b[0m\u001b[1m/Applications/Xcode.app/Contents/Developer/Toolchains/XcodeDefault.xctoolchain/usr/bin/../include/c++/v1/ostream:204:20: \u001b[0m\u001b[0;1;30mnote: \u001b[0mcandidate function not viable: no overload of 'end' matching 'float' for 1st argument\u001b[0m\n",
      "    basic_ostream& operator<<(float __f);\n",
      "\u001b[0;1;32m                   ^\n",
      "\u001b[0m\u001b[1m/Applications/Xcode.app/Contents/Developer/Toolchains/XcodeDefault.xctoolchain/usr/bin/../include/c++/v1/ostream:205:20: \u001b[0m\u001b[0;1;30mnote: \u001b[0mcandidate function not viable: no overload of 'end' matching 'double' for 1st argument\u001b[0m\n",
      "    basic_ostream& operator<<(double __f);\n",
      "\u001b[0;1;32m                   ^\n",
      "\u001b[0m\u001b[1m/Applications/Xcode.app/Contents/Developer/Toolchains/XcodeDefault.xctoolchain/usr/bin/../include/c++/v1/ostream:206:20: \u001b[0m\u001b[0;1;30mnote: \u001b[0mcandidate function not viable: no overload of 'end' matching 'long double' for 1st argument\u001b[0m\n",
      "    basic_ostream& operator<<(long double __f);\n",
      "\u001b[0;1;32m                   ^\n",
      "\u001b[0m\u001b[1m/Applications/Xcode.app/Contents/Developer/Toolchains/XcodeDefault.xctoolchain/usr/bin/../include/c++/v1/ostream:208:20: \u001b[0m\u001b[0;1;30mnote: \u001b[0mcandidate function not viable: no overload of 'end' matching 'basic_streambuf<std::__1::basic_ostream<char, std::__1::char_traits<char> >::char_type, std::__1::basic_ostream<char,\n",
      "      std::__1::char_traits<char> >::traits_type> *' (aka 'basic_streambuf<char, std::__1::char_traits<char> > *') for 1st argument\u001b[0m\n",
      "    basic_ostream& operator<<(basic_streambuf<char_type, traits_type>* __sb);\n",
      "\u001b[0;1;32m                   ^\n",
      "\u001b[0m\u001b[1m/Applications/Xcode.app/Contents/Developer/Toolchains/XcodeDefault.xctoolchain/usr/bin/../include/c++/v1/ostream:778:1: \u001b[0m\u001b[0;1;30mnote: \u001b[0mcandidate function [with _CharT = char, _Traits = std::__1::char_traits<char>] not viable: no overload of 'end' matching 'char' for 2nd argument\u001b[0m\n",
      "operator<<(basic_ostream<_CharT, _Traits>& __os, _CharT __c)\n",
      "\u001b[0;1;32m^\n",
      "\u001b[0m\u001b[1m/Applications/Xcode.app/Contents/Developer/Toolchains/XcodeDefault.xctoolchain/usr/bin/../include/c++/v1/ostream:785:1: \u001b[0m\u001b[0;1;30mnote: \u001b[0mcandidate function not viable: no overload of 'end' matching 'char' for 2nd argument\u001b[0m\n",
      "operator<<(basic_ostream<_CharT, _Traits>& __os, char __cn)\n",
      "\u001b[0;1;32m^\n",
      "\u001b[0m\u001b[1m/Applications/Xcode.app/Contents/Developer/Toolchains/XcodeDefault.xctoolchain/usr/bin/../include/c++/v1/ostream:818:1: \u001b[0m\u001b[0;1;30mnote: \u001b[0mcandidate function not viable: no overload of 'end' matching 'char' for 2nd argument\u001b[0m\n",
      "operator<<(basic_ostream<char, _Traits>& __os, char __c)\n",
      "\u001b[0;1;32m^\n",
      "\u001b[0m\u001b[1m/Applications/Xcode.app/Contents/Developer/Toolchains/XcodeDefault.xctoolchain/usr/bin/../include/c++/v1/ostream:825:1: \u001b[0m\u001b[0;1;30mnote: \u001b[0mcandidate function not viable: no overload of 'end' matching 'signed char' for 2nd argument\u001b[0m\n",
      "operator<<(basic_ostream<char, _Traits>& __os, signed char __c)\n",
      "\u001b[0;1;32m^\n",
      "\u001b[0m\u001b[1m/Applications/Xcode.app/Contents/Developer/Toolchains/XcodeDefault.xctoolchain/usr/bin/../include/c++/v1/ostream:832:1: \u001b[0m\u001b[0;1;30mnote: \u001b[0mcandidate function not viable: no overload of 'end' matching 'unsigned char' for 2nd argument\u001b[0m\n",
      "operator<<(basic_ostream<char, _Traits>& __os, unsigned char __c)\n",
      "\u001b[0;1;32m^\n",
      "\u001b[0m\u001b[1m/Applications/Xcode.app/Contents/Developer/Toolchains/XcodeDefault.xctoolchain/usr/bin/../include/c++/v1/ostream:839:1: \u001b[0m\u001b[0;1;30mnote: \u001b[0mcandidate function [with _CharT = char, _Traits = std::__1::char_traits<char>] not viable: no overload of 'end' matching 'const char *' for 2nd argument\u001b[0m\n",
      "operator<<(basic_ostream<_CharT, _Traits>& __os, const _CharT* __str)\n",
      "\u001b[0;1;32m^\n",
      "\u001b[0m\u001b[1m/Applications/Xcode.app/Contents/Developer/Toolchains/XcodeDefault.xctoolchain/usr/bin/../include/c++/v1/ostream:846:1: \u001b[0m\u001b[0;1;30mnote: \u001b[0mcandidate function not viable: no overload of 'end' matching 'const char *' for 2nd argument\u001b[0m\n",
      "operator<<(basic_ostream<_CharT, _Traits>& __os, const char* __strn)\n",
      "\u001b[0;1;32m^\n",
      "\u001b[0m\u001b[1m/Applications/Xcode.app/Contents/Developer/Toolchains/XcodeDefault.xctoolchain/usr/bin/../include/c++/v1/ostream:892:1: \u001b[0m\u001b[0;1;30mnote: \u001b[0mcandidate function not viable: no overload of 'end' matching 'const char *' for 2nd argument\u001b[0m\n",
      "operator<<(basic_ostream<char, _Traits>& __os, const char* __str)\n",
      "\u001b[0;1;32m^\n",
      "\u001b[0m\u001b[1m/Applications/Xcode.app/Contents/Developer/Toolchains/XcodeDefault.xctoolchain/usr/bin/../include/c++/v1/ostream:899:1: \u001b[0m\u001b[0;1;30mnote: \u001b[0mcandidate function not viable: no overload of 'end' matching 'const signed char *' for 2nd argument\u001b[0m\n",
      "operator<<(basic_ostream<char, _Traits>& __os, const signed char* __str)\n",
      "\u001b[0;1;32m^\n",
      "\u001b[0m\u001b[1m/Applications/Xcode.app/Contents/Developer/Toolchains/XcodeDefault.xctoolchain/usr/bin/../include/c++/v1/ostream:907:1: \u001b[0m\u001b[0;1;30mnote: \u001b[0mcandidate function not viable: no overload of 'end' matching 'const unsigned char *' for 2nd argument\u001b[0m\n",
      "operator<<(basic_ostream<char, _Traits>& __os, const unsigned char* __str)\n",
      "\u001b[0;1;32m^\n",
      "\u001b[0m\u001b[1m/Applications/Xcode.app/Contents/Developer/Toolchains/XcodeDefault.xctoolchain/usr/bin/../include/c++/v1/ostream:1086:1: \u001b[0m\u001b[0;1;30mnote: \u001b[0mcandidate function not viable: no overload of 'end' matching 'const std::__1::error_code' for 2nd argument\u001b[0m\n",
      "operator<<(basic_ostream<_CharT, _Traits>& __os, const error_code& __ec)\n",
      "\u001b[0;1;32m^\n",
      "\u001b[0m\u001b[1m/Applications/Xcode.app/Contents/Developer/Toolchains/XcodeDefault.xctoolchain/usr/bin/../include/c++/v1/random:3892:1: \u001b[0m\u001b[0;1;30mnote: \u001b[0mcandidate function not viable: no overload of 'end' matching 'const std::__1::bernoulli_distribution' for 2nd argument\u001b[0m\n",
      "operator<<(basic_ostream<_CharT, _Traits>& __os, const bernoulli_distribution& __x)\n",
      "\u001b[0;1;32m^\n",
      "\u001b[0m\u001b[1m/Applications/Xcode.app/Contents/Developer/Toolchains/XcodeDefault.xctoolchain/usr/bin/../include/c++/v1/iomanip:481:1: \u001b[0m\u001b[0;1;30mnote: \u001b[0mcandidate function [with _CharT = char, _Traits = std::__1::char_traits<char>] not viable: no overload of 'end' matching 'const __iom_t10<char>' for 2nd argument\u001b[0m\n",
      "operator<<(basic_ostream<_CharT, _Traits>& __os, const __iom_t10<_CharT>& __x)\n",
      "\u001b[0;1;32m^\n",
      "\u001b[0m\u001b[1m/Users/moneta/root/github/root-build-optim/include/TString.h:465:16: \u001b[0m\u001b[0;1;30mnote: \u001b[0mcandidate function not viable: no overload of 'end' matching 'const TString' for 2nd argument\u001b[0m\n",
      "std::ostream  &operator<<(std::ostream &str, const TString &s);\n",
      "\u001b[0;1;32m               ^\n",
      "\u001b[0m\u001b[1m/Users/moneta/root/github/root-build-optim/include/TBits.h:184:22: \u001b[0m\u001b[0;1;30mnote: \u001b[0mcandidate function not viable: no overload of 'end' matching 'const TBits' for 2nd argument\u001b[0m\n",
      "inline std::ostream &operator<<(std::ostream& os, const TBits& rhs)\n",
      "\u001b[0;1;32m                     ^\n",
      "\u001b[0m\u001b[1m/Users/moneta/root/github/root-build-optim/include/TTimeStamp.h:59:15: \u001b[0m\u001b[0;1;30mnote: \u001b[0mcandidate function not viable: no overload of 'end' matching 'const TTimeStamp' for 2nd argument\u001b[0m\n",
      "std::ostream &operator<<(std::ostream &os,  const TTimeStamp &ts);\n",
      "\u001b[0;1;32m              ^\n",
      "\u001b[0m\u001b[1m/Users/moneta/root/git/root-build-optim/include/RooPrintable.h:65:15: \u001b[0m\u001b[0;1;30mnote: \u001b[0mcandidate function not viable: no overload of 'end' matching 'const RooPrintable' for 2nd argument\u001b[0m\n",
      "std::ostream& operator<<(std::ostream& os, const RooPrintable& rp) ; \n",
      "\u001b[0;1;32m              ^\n",
      "\u001b[0m\u001b[1m/Users/moneta/root/git/root-build-optim/include/RooAbsArg.h:604:15: \u001b[0m\u001b[0;1;30mnote: \u001b[0mcandidate function not viable: no overload of 'end' matching 'const RooAbsArg' for 2nd argument\u001b[0m\n",
      "std::ostream& operator<<(std::ostream& os, const RooAbsArg &arg);\n",
      "\u001b[0;1;32m              ^\n",
      "\u001b[0m\u001b[1m/Users/moneta/root/github/root-build-optim/include/TString.h:470:11: \u001b[0m\u001b[0;1;30mnote: \u001b[0mcandidate function not viable: no known conversion from 'std::__1::basic_ostream<char>' to 'TBuffer &' for 1st argument\u001b[0m\n",
      "TBuffer  &operator<<(TBuffer &buf, const TString * sp);\n",
      "\u001b[0;1;32m          ^\n",
      "\u001b[0m\u001b[1m/Users/moneta/root/github/root-build-optim/include/TBuffer.h:356:17: \u001b[0m\u001b[0;1;30mnote: \u001b[0mcandidate function not viable: no known conversion from 'std::__1::basic_ostream<char>' to 'TBuffer &' for 1st argument\u001b[0m\n",
      "inline TBuffer &operator<<(TBuffer &buf, Bool_t b)   { buf.WriteBool(b);   return buf; }\n",
      "\u001b[0;1;32m                ^\n",
      "\u001b[0m\u001b[1m/Users/moneta/root/github/root-build-optim/include/TBuffer.h:357:17: \u001b[0m\u001b[0;1;30mnote: \u001b[0mcandidate function not viable: no known conversion from 'std::__1::basic_ostream<char>' to 'TBuffer &' for 1st argument\u001b[0m\n",
      "inline TBuffer &operator<<(TBuffer &buf, Char_t c)   { buf.WriteChar(c);   return buf; }\n",
      "\u001b[0;1;32m                ^\n",
      "\u001b[0m\u001b[1m/Users/moneta/root/github/root-build-optim/include/TBuffer.h:358:17: \u001b[0m\u001b[0;1;30mnote: \u001b[0mcandidate function not viable: no known conversion from 'std::__1::basic_ostream<char>' to 'TBuffer &' for 1st argument\u001b[0m\n",
      "inline TBuffer &operator<<(TBuffer &buf, UChar_t c)  { buf.WriteUChar(c);  return buf; }\n",
      "\u001b[0;1;32m                ^\n",
      "\u001b[0m\u001b[1m/Users/moneta/root/github/root-build-optim/include/TBuffer.h:359:17: \u001b[0m\u001b[0;1;30mnote: \u001b[0mcandidate function not viable: no known conversion from 'std::__1::basic_ostream<char>' to 'TBuffer &' for 1st argument\u001b[0m\n",
      "inline TBuffer &operator<<(TBuffer &buf, Short_t s)  { buf.WriteShort(s);  return buf; }\n",
      "\u001b[0;1;32m                ^\n",
      "\u001b[0m\u001b[1m/Users/moneta/root/github/root-build-optim/include/TBuffer.h:360:17: \u001b[0m\u001b[0;1;30mnote: \u001b[0mcandidate function not viable: no known conversion from 'std::__1::basic_ostream<char>' to 'TBuffer &' for 1st argument\u001b[0m\n",
      "inline TBuffer &operator<<(TBuffer &buf, UShort_t s) { buf.WriteUShort(s); return buf; }\n",
      "\u001b[0;1;32m                ^\n",
      "\u001b[0m\u001b[1m/Users/moneta/root/github/root-build-optim/include/TBuffer.h:361:17: \u001b[0m\u001b[0;1;30mnote: \u001b[0mcandidate function not viable: no known conversion from 'std::__1::basic_ostream<char>' to 'TBuffer &' for 1st argument\u001b[0m\n",
      "inline TBuffer &operator<<(TBuffer &buf, Int_t i)    { buf.WriteInt(i);    return buf; }\n",
      "\u001b[0;1;32m                ^\n",
      "\u001b[0m\u001b[1m/Users/moneta/root/github/root-build-optim/include/TBuffer.h:362:17: \u001b[0m\u001b[0;1;30mnote: \u001b[0mcandidate function not viable: no known conversion from 'std::__1::basic_ostream<char>' to 'TBuffer &' for 1st argument\u001b[0m\n",
      "inline TBuffer &operator<<(TBuffer &buf, UInt_t i)   { buf.WriteUInt(i);   return buf; }\n",
      "\u001b[0;1;32m                ^\n",
      "\u001b[0m\u001b[1m/Users/moneta/root/github/root-build-optim/include/TBuffer.h:363:17: \u001b[0m\u001b[0;1;30mnote: \u001b[0mcandidate function not viable: no known conversion from 'std::__1::basic_ostream<char>' to 'TBuffer &' for 1st argument\u001b[0m\n",
      "inline TBuffer &operator<<(TBuffer &buf, Long_t l)   { buf.WriteLong(l);   return buf; }\n",
      "\u001b[0;1;32m                ^\n",
      "\u001b[0m\u001b[1m/Users/moneta/root/github/root-build-optim/include/TBuffer.h:364:17: \u001b[0m\u001b[0;1;30mnote: \u001b[0mcandidate function not viable: no known conversion from 'std::__1::basic_ostream<char>' to 'TBuffer &' for 1st argument\u001b[0m\n",
      "inline TBuffer &operator<<(TBuffer &buf, ULong_t l)  { buf.WriteULong(l);  return buf; }\n",
      "\u001b[0;1;32m                ^\n",
      "\u001b[0m\u001b[1m/Users/moneta/root/github/root-build-optim/include/TBuffer.h:365:17: \u001b[0m\u001b[0;1;30mnote: \u001b[0mcandidate function not viable: no known conversion from 'std::__1::basic_ostream<char>' to 'TBuffer &' for 1st argument\u001b[0m\n",
      "inline TBuffer &operator<<(TBuffer &buf, Long64_t l) { buf.WriteLong64(l); return buf; }\n",
      "\u001b[0;1;32m                ^\n",
      "\u001b[0m\u001b[1m/Users/moneta/root/github/root-build-optim/include/TBuffer.h:366:17: \u001b[0m\u001b[0;1;30mnote: \u001b[0mcandidate function not viable: no known conversion from 'std::__1::basic_ostream<char>' to 'TBuffer &' for 1st argument\u001b[0m\n",
      "inline TBuffer &operator<<(TBuffer &buf, ULong64_t l){ buf.WriteULong64(l);return buf; }\n",
      "\u001b[0;1;32m                ^\n",
      "\u001b[0m\u001b[1m/Users/moneta/root/github/root-build-optim/include/TBuffer.h:367:17: \u001b[0m\u001b[0;1;30mnote: \u001b[0mcandidate function not viable: no known conversion from 'std::__1::basic_ostream<char>' to 'TBuffer &' for 1st argument\u001b[0m\n",
      "inline TBuffer &operator<<(TBuffer &buf, Float_t f)  { buf.WriteFloat(f);  return buf; }\n",
      "\u001b[0;1;32m                ^\n",
      "\u001b[0m\u001b[1m/Users/moneta/root/github/root-build-optim/include/TBuffer.h:368:17: \u001b[0m\u001b[0;1;30mnote: \u001b[0mcandidate function not viable: no known conversion from 'std::__1::basic_ostream<char>' to 'TBuffer &' for 1st argument\u001b[0m\n",
      "inline TBuffer &operator<<(TBuffer &buf, Double_t d) { buf.WriteDouble(d); return buf; }\n",
      "\u001b[0;1;32m                ^\n",
      "\u001b[0m\u001b[1m/Users/moneta/root/github/root-build-optim/include/TBuffer.h:369:17: \u001b[0m\u001b[0;1;30mnote: \u001b[0mcandidate function not viable: no known conversion from 'std::__1::basic_ostream<char>' to 'TBuffer &' for 1st argument\u001b[0m\n",
      "inline TBuffer &operator<<(TBuffer &buf, const Char_t *c)  { buf.WriteCharP(c);  return buf; }\n",
      "\u001b[0;1;32m                ^\n",
      "\u001b[0m\u001b[1m/Users/moneta/root/github/root-build-optim/include/TBuffer.h:370:17: \u001b[0m\u001b[0;1;30mnote: \u001b[0mcandidate function not viable: no known conversion from 'std::__1::basic_ostream<char>' to 'TBuffer &' for 1st argument\u001b[0m\n",
      "inline TBuffer &operator<<(TBuffer &buf, const TString &s) { buf.WriteTString(s);return buf; }\n",
      "\u001b[0;1;32m                ^\n",
      "\u001b[0m\u001b[1m/Users/moneta/root/github/root-build-optim/include/TBuffer.h:408:17: \u001b[0m\u001b[0;1;30mnote: \u001b[0mcandidate function not viable: no known conversion from 'std::__1::basic_ostream<char>' to 'TBuffer &' for 1st argument\u001b[0m\n",
      "inline TBuffer &operator<<(TBuffer &buf, const TObject *obj)\n",
      "\u001b[0;1;32m                ^\n",
      "\u001b[0m\u001b[1m/Users/moneta/root/github/root-build-optim/include/TArray.h:75:10: \u001b[0m\u001b[0;1;30mnote: \u001b[0mcandidate function not viable: no known conversion from 'std::__1::basic_ostream<char>' to 'TBuffer &' for 1st argument\u001b[0m\n",
      "TBuffer &operator<<(TBuffer &b, const TArray *obj);\n",
      "\u001b[0;1;32m         ^\n",
      "\u001b[0m\u001b[1m/Users/moneta/root/github/root-build-optim/include/TArrayD.h:73:17: \u001b[0m\u001b[0;1;30mnote: \u001b[0mcandidate function not viable: no known conversion from 'std::__1::basic_ostream<char>' to 'TBuffer &' for 1st argument\u001b[0m\n",
      "inline TBuffer &operator<<(TBuffer &buf, const TArrayD *obj)\n",
      "\u001b[0;1;32m                ^\n",
      "\u001b[0m\u001b[1m/Users/moneta/root/github/root-build-optim/include/TArrayI.h:73:17: \u001b[0m\u001b[0;1;30mnote: \u001b[0mcandidate function not viable: no known conversion from 'std::__1::basic_ostream<char>' to 'TBuffer &' for 1st argument\u001b[0m\n",
      "inline TBuffer &operator<<(TBuffer &buf, const TArrayI *obj)\n",
      "\u001b[0;1;32m                ^\n",
      "\u001b[0m\u001b[1m/Users/moneta/root/github/root-build-optim/include/TUUID.h:95:10: \u001b[0m\u001b[0;1;30mnote: \u001b[0mcandidate function not viable: no known conversion from 'std::__1::basic_ostream<char>' to 'TBuffer &' for 1st argument\u001b[0m\n",
      "TBuffer &operator<<(TBuffer &buf, const TUUID &uuid);\n",
      "\u001b[0;1;32m         ^\n",
      "\u001b[0m\u001b[1m/Users/moneta/root/github/root-build-optim/include/TArrayC.h:72:17: \u001b[0m\u001b[0;1;30mnote: \u001b[0mcandidate function not viable: no known conversion from 'std::__1::basic_ostream<char>' to 'TBuffer &' for 1st argument\u001b[0m\n",
      "inline TBuffer &operator<<(TBuffer &buf, const TArrayC *obj)\n",
      "\u001b[0;1;32m                ^\n",
      "\u001b[0m\u001b[1m/Users/moneta/root/github/root-build-optim/include/TArrayS.h:72:17: \u001b[0m\u001b[0;1;30mnote: \u001b[0mcandidate function not viable: no known conversion from 'std::__1::basic_ostream<char>' to 'TBuffer &' for 1st argument\u001b[0m\n",
      "inline TBuffer &operator<<(TBuffer &buf, const TArrayS *obj)\n",
      "\u001b[0;1;32m                ^\n",
      "\u001b[0m\u001b[1m/Users/moneta/root/github/root-build-optim/include/TArrayF.h:72:17: \u001b[0m\u001b[0;1;30mnote: \u001b[0mcandidate function not viable: no known conversion from 'std::__1::basic_ostream<char>' to 'TBuffer &' for 1st argument\u001b[0m\n",
      "inline TBuffer &operator<<(TBuffer &buf, const TArrayF *obj)\n",
      "\u001b[0;1;32m                ^\n",
      "\u001b[0m\u001b[1m/Users/moneta/root/github/root-build-optim/include/TMD5.h:89:10: \u001b[0m\u001b[0;1;30mnote: \u001b[0mcandidate function not viable: no known conversion from 'std::__1::basic_ostream<char>' to 'TBuffer &' for 1st argument\u001b[0m\n",
      "TBuffer &operator<<(TBuffer &buf, const TMD5 &md5);\n",
      "\u001b[0;1;32m         ^\n",
      "\u001b[0m\u001b[1m/Users/moneta/root/github/root-build-optim/include/TTimeStamp.h:60:10: \u001b[0m\u001b[0;1;30mnote: \u001b[0mcandidate function not viable: no known conversion from 'std::__1::basic_ostream<char>' to 'TBuffer &' for 1st argument\u001b[0m\n",
      "TBuffer &operator<<(TBuffer &buf, const TTimeStamp &ts);\n",
      "\u001b[0;1;32m         ^\n",
      "\u001b[0m\u001b[1m/Users/moneta/root/github/root-build-optim/include/TArrayL.h:74:17: \u001b[0m\u001b[0;1;30mnote: \u001b[0mcandidate function not viable: no known conversion from 'std::__1::basic_ostream<char>' to 'TBuffer &' for 1st argument\u001b[0m\n",
      "inline TBuffer &operator<<(TBuffer &buf, const TArrayL *obj)\n",
      "\u001b[0;1;32m                ^\n",
      "\u001b[0m\u001b[1m/Users/moneta/root/github/root-build-optim/include/TArrayL64.h:74:17: \u001b[0m\u001b[0;1;30mnote: \u001b[0mcandidate function not viable: no known conversion from 'std::__1::basic_ostream<char>' to 'TBuffer &' for 1st argument\u001b[0m\n",
      "inline TBuffer &operator<<(TBuffer &buf, const TArrayL64 *obj)\n",
      "\u001b[0;1;32m                ^\n",
      "\u001b[0m\u001b[1m/Applications/Xcode.app/Contents/Developer/Toolchains/XcodeDefault.xctoolchain/usr/bin/../include/c++/v1/ostream:1067:1: \u001b[0m\u001b[0;1;30mnote: \u001b[0mcandidate template ignored: couldn't infer template argument '_Tp'\u001b[0m\n",
      "operator<<(_Stream&& __os, const _Tp& __x)\n",
      "\u001b[0;1;32m^\n",
      "\u001b[0m\u001b[1m/Applications/Xcode.app/Contents/Developer/Toolchains/XcodeDefault.xctoolchain/usr/bin/../include/c++/v1/ostream:1077:1: \u001b[0m\u001b[0;1;30mnote: \u001b[0mcandidate template ignored: couldn't infer template argument '_Allocator'\u001b[0m\n",
      "operator<<(basic_ostream<_CharT, _Traits>& __os,\n",
      "\u001b[0;1;32m^\n",
      "\u001b[0m\u001b[1m/Applications/Xcode.app/Contents/Developer/Toolchains/XcodeDefault.xctoolchain/usr/bin/../include/c++/v1/ostream:1094:1: \u001b[0m\u001b[0;1;30mnote: \u001b[0mcandidate template ignored: couldn't infer template argument '_Yp'\u001b[0m\n",
      "operator<<(basic_ostream<_CharT, _Traits>& __os, shared_ptr<_Yp> const& __p)\n",
      "\u001b[0;1;32m^\n",
      "\u001b[0m\u001b[1m/Applications/Xcode.app/Contents/Developer/Toolchains/XcodeDefault.xctoolchain/usr/bin/../include/c++/v1/ostream:1101:1: \u001b[0m\u001b[0;1;30mnote: \u001b[0mcandidate template ignored: couldn't infer template argument '_Size'\u001b[0m\n",
      "operator<<(basic_ostream<_CharT, _Traits>& __os, const bitset<_Size>& __x)\n",
      "\u001b[0;1;32m^\n",
      "\u001b[0m\u001b[1m/Applications/Xcode.app/Contents/Developer/Toolchains/XcodeDefault.xctoolchain/usr/bin/../include/c++/v1/complex:1514:1: \u001b[0m\u001b[0;1;30mnote: \u001b[0mcandidate template ignored: couldn't infer template argument '_Tp'\u001b[0m\n",
      "operator<<(basic_ostream<_CharT, _Traits>& __os, const complex<_Tp>& __x)\n",
      "\u001b[0;1;32m^\n",
      "\u001b[0m\u001b[1m/Applications/Xcode.app/Contents/Developer/Toolchains/XcodeDefault.xctoolchain/usr/bin/../include/c++/v1/random:1922:5: \u001b[0m\u001b[0;1;30mnote: \u001b[0mcandidate template ignored: couldn't infer template argument '_Up'\u001b[0m\n",
      "    operator<<(basic_ostream<_CharT, _Traits>& __os,\n",
      "\u001b[0;1;32m    ^\n",
      "\u001b[0m\u001b[1m/Applications/Xcode.app/Contents/Developer/Toolchains/XcodeDefault.xctoolchain/usr/bin/../include/c++/v1/random:2158:5: \u001b[0m\u001b[0;1;30mnote: \u001b[0mcandidate template ignored: couldn't infer template argument '_UI'\u001b[0m\n",
      "    operator<<(basic_ostream<_CharT, _Traits>& __os,\n",
      "\u001b[0;1;32m    ^\n",
      "\u001b[0m\u001b[1m/Applications/Xcode.app/Contents/Developer/Toolchains/XcodeDefault.xctoolchain/usr/bin/../include/c++/v1/random:2607:5: \u001b[0m\u001b[0;1;30mnote: \u001b[0mcandidate template ignored: couldn't infer template argument '_UI'\u001b[0m\n",
      "    operator<<(basic_ostream<_CharT, _Traits>& __os,\n",
      "\u001b[0;1;32m    ^\n",
      "\u001b[0m\u001b[1m/Applications/Xcode.app/Contents/Developer/Toolchains/XcodeDefault.xctoolchain/usr/bin/../include/c++/v1/random:2900:5: \u001b[0m\u001b[0;1;30mnote: \u001b[0mcandidate template ignored: couldn't infer template argument '_Eng'\u001b[0m\n",
      "    operator<<(basic_ostream<_CharT, _Traits>& __os,\n",
      "\u001b[0;1;32m    ^\n",
      "\u001b[0m\u001b[1m/Applications/Xcode.app/Contents/Developer/Toolchains/XcodeDefault.xctoolchain/usr/bin/../include/c++/v1/random:3204:1: \u001b[0m\u001b[0;1;30mnote: \u001b[0mcandidate template ignored: couldn't infer template argument '_Eng'\u001b[0m\n",
      "operator<<(basic_ostream<_CharT, _Traits>& __os,\n",
      "\u001b[0;1;32m^\n",
      "\u001b[0m\u001b[1m/Applications/Xcode.app/Contents/Developer/Toolchains/XcodeDefault.xctoolchain/usr/bin/../include/c++/v1/random:3436:1: \u001b[0m\u001b[0;1;30mnote: \u001b[0mcandidate template ignored: couldn't infer template argument '_Eng'\u001b[0m\n",
      "operator<<(basic_ostream<_CharT, _Traits>& __os,\n",
      "\u001b[0;1;32m^\n",
      "\u001b[0m\u001b[1m/Applications/Xcode.app/Contents/Developer/Toolchains/XcodeDefault.xctoolchain/usr/bin/../include/c++/v1/random:3659:1: \u001b[0m\u001b[0;1;30mnote: \u001b[0mcandidate template ignored: couldn't infer template argument '_IT'\u001b[0m\n",
      "operator<<(basic_ostream<_CharT, _Traits>& __os,\n",
      "\u001b[0;1;32m^\n",
      "\u001b[0m\u001b[1m/Applications/Xcode.app/Contents/Developer/Toolchains/XcodeDefault.xctoolchain/usr/bin/../include/c++/v1/random:3780:1: \u001b[0m\u001b[0;1;30mnote: \u001b[0mcandidate template ignored: couldn't infer template argument '_RT'\u001b[0m\n",
      "operator<<(basic_ostream<_CharT, _Traits>& __os,\n",
      "\u001b[0;1;32m^\n",
      "\u001b[0m\u001b[1m/Applications/Xcode.app/Contents/Developer/Toolchains/XcodeDefault.xctoolchain/usr/bin/../include/c++/v1/random:4056:1: \u001b[0m\u001b[0;1;30mnote: \u001b[0mcandidate template ignored: couldn't infer template argument '_IntType'\u001b[0m\n",
      "operator<<(basic_ostream<_CharT, _Traits>& __os,\n",
      "\u001b[0;1;32m^\n",
      "\u001b[0m\u001b[1m/Applications/Xcode.app/Contents/Developer/Toolchains/XcodeDefault.xctoolchain/usr/bin/../include/c++/v1/random:4174:1: \u001b[0m\u001b[0;1;30mnote: \u001b[0mcandidate template ignored: couldn't infer template argument '_RealType'\u001b[0m\n",
      "operator<<(basic_ostream<_CharT, _Traits>& __os,\n",
      "\u001b[0;1;32m^\n",
      "\u001b[0m\u001b[1m/Applications/Xcode.app/Contents/Developer/Toolchains/XcodeDefault.xctoolchain/usr/bin/../include/c++/v1/random:4285:5: \u001b[0m\u001b[0;1;30mnote: \u001b[0mcandidate template ignored: couldn't infer template argument '_RT'\u001b[0m\n",
      "    operator<<(basic_ostream<_CharT, _Traits>& __os,\n",
      "\u001b[0;1;32m    ^\n",
      "\u001b[0m\u001b[1m/Applications/Xcode.app/Contents/Developer/Toolchains/XcodeDefault.xctoolchain/usr/bin/../include/c++/v1/random:4478:1: \u001b[0m\u001b[0;1;30mnote: \u001b[0mcandidate template ignored: couldn't infer template argument '_RT'\u001b[0m\n",
      "operator<<(basic_ostream<_CharT, _Traits>& __os,\n",
      "\u001b[0;1;32m^\n",
      "\u001b[0m\u001b[1m/Applications/Xcode.app/Contents/Developer/Toolchains/XcodeDefault.xctoolchain/usr/bin/../include/c++/v1/random:4699:1: \u001b[0m\u001b[0;1;30mnote: \u001b[0mcandidate template ignored: couldn't infer template argument '_IntType'\u001b[0m\n",
      "operator<<(basic_ostream<_CharT, _Traits>& __os,\n",
      "\u001b[0;1;32m^\n",
      "\u001b[0m\u001b[1m/Applications/Xcode.app/Contents/Developer/Toolchains/XcodeDefault.xctoolchain/usr/bin/../include/c++/v1/random:4810:1: \u001b[0m\u001b[0;1;30mnote: \u001b[0mcandidate template ignored: couldn't infer template argument '_RT'\u001b[0m\n",
      "operator<<(basic_ostream<_CharT, _Traits>& __os,\n",
      "\u001b[0;1;32m^\n",
      "\u001b[0m\u001b[1m/Applications/Xcode.app/Contents/Developer/Toolchains/XcodeDefault.xctoolchain/usr/bin/../include/c++/v1/random:4929:1: \u001b[0m\u001b[0;1;30mnote: \u001b[0mcandidate template ignored: couldn't infer template argument '_RT'\u001b[0m\n",
      "operator<<(basic_ostream<_CharT, _Traits>& __os,\n",
      "\u001b[0;1;32m^\n",
      "\u001b[0m\u001b[1m/Applications/Xcode.app/Contents/Developer/Toolchains/XcodeDefault.xctoolchain/usr/bin/../include/c++/v1/random:5101:1: \u001b[0m\u001b[0;1;30mnote: \u001b[0mcandidate template ignored: couldn't infer template argument '_RT'\u001b[0m\n",
      "operator<<(basic_ostream<_CharT, _Traits>& __os,\n",
      "\u001b[0;1;32m^\n",
      "\u001b[0m\u001b[1m/Applications/Xcode.app/Contents/Developer/Toolchains/XcodeDefault.xctoolchain/usr/bin/../include/c++/v1/random:5237:1: \u001b[0m\u001b[0;1;30mnote: \u001b[0mcandidate template ignored: couldn't infer template argument '_IntType'\u001b[0m\n",
      "operator<<(basic_ostream<_CharT, _Traits>& __os,\n",
      "\u001b[0;1;32m^\n",
      "\u001b[0m\u001b[1m/Applications/Xcode.app/Contents/Developer/Toolchains/XcodeDefault.xctoolchain/usr/bin/../include/c++/v1/random:5343:1: \u001b[0m\u001b[0;1;30mnote: \u001b[0mcandidate template ignored: couldn't infer template argument '_IntType'\u001b[0m\n",
      "operator<<(basic_ostream<_CharT, _Traits>& __os,\n",
      "\u001b[0;1;32m^\n",
      "\u001b[0m\u001b[1m/Applications/Xcode.app/Contents/Developer/Toolchains/XcodeDefault.xctoolchain/usr/bin/../include/c++/v1/random:5447:1: \u001b[0m\u001b[0;1;30mnote: \u001b[0mcandidate template ignored: couldn't infer template argument '_RT'\u001b[0m\n",
      "operator<<(basic_ostream<_CharT, _Traits>& __os,\n",
      "\u001b[0;1;32m^\n",
      "\u001b[0m\u001b[1m/Applications/Xcode.app/Contents/Developer/Toolchains/XcodeDefault.xctoolchain/usr/bin/../include/c++/v1/random:5567:1: \u001b[0m\u001b[0;1;30mnote: \u001b[0mcandidate template ignored: couldn't infer template argument '_RT'\u001b[0m\n",
      "operator<<(basic_ostream<_CharT, _Traits>& __os,\n",
      "\u001b[0;1;32m^\n",
      "\u001b[0m\u001b[1m/Applications/Xcode.app/Contents/Developer/Toolchains/XcodeDefault.xctoolchain/usr/bin/../include/c++/v1/random:5689:1: \u001b[0m\u001b[0;1;30mnote: \u001b[0mcandidate template ignored: couldn't infer template argument '_RT'\u001b[0m\n",
      "operator<<(basic_ostream<_CharT, _Traits>& __os,\n",
      "\u001b[0;1;32m^\n",
      "\u001b[0m\u001b[1m/Applications/Xcode.app/Contents/Developer/Toolchains/XcodeDefault.xctoolchain/usr/bin/../include/c++/v1/random:5805:1: \u001b[0m\u001b[0;1;30mnote: \u001b[0mcandidate template ignored: couldn't infer template argument '_RT'\u001b[0m\n",
      "operator<<(basic_ostream<_CharT, _Traits>& __os,\n",
      "\u001b[0;1;32m^\n",
      "\u001b[0m\u001b[1m/Applications/Xcode.app/Contents/Developer/Toolchains/XcodeDefault.xctoolchain/usr/bin/../include/c++/v1/random:6028:1: \u001b[0m\u001b[0;1;30mnote: \u001b[0mcandidate template ignored: couldn't infer template argument '_IT'\u001b[0m\n",
      "operator<<(basic_ostream<_CharT, _Traits>& __os,\n",
      "\u001b[0;1;32m^\n",
      "\u001b[0m\u001b[1m/Applications/Xcode.app/Contents/Developer/Toolchains/XcodeDefault.xctoolchain/usr/bin/../include/c++/v1/random:6329:1: \u001b[0m\u001b[0;1;30mnote: \u001b[0mcandidate template ignored: couldn't infer template argument '_RT'\u001b[0m\n",
      "operator<<(basic_ostream<_CharT, _Traits>& __os,\n",
      "\u001b[0;1;32m^\n",
      "\u001b[0m\u001b[1m/Applications/Xcode.app/Contents/Developer/Toolchains/XcodeDefault.xctoolchain/usr/bin/../include/c++/v1/random:6668:1: \u001b[0m\u001b[0;1;30mnote: \u001b[0mcandidate template ignored: couldn't infer template argument '_RT'\u001b[0m\n",
      "operator<<(basic_ostream<_CharT, _Traits>& __os,\n",
      "\u001b[0;1;32m^\n",
      "\u001b[0m\u001b[1m/Applications/Xcode.app/Contents/Developer/Toolchains/XcodeDefault.xctoolchain/usr/bin/../include/c++/v1/iomanip:361:1: \u001b[0m\u001b[0;1;30mnote: \u001b[0mcandidate template ignored: couldn't infer template argument '_MoneyT'\u001b[0m\n",
      "operator<<(basic_ostream<_CharT, _Traits>& __os, const __iom_t8<_MoneyT>& __x)\n",
      "\u001b[0;1;32m^\n",
      "\u001b[0m\u001b[1m/Applications/Xcode.app/Contents/Developer/Toolchains/XcodeDefault.xctoolchain/usr/bin/../include/c++/v1/regex:5165:1: \u001b[0m\u001b[0;1;30mnote: \u001b[0mcandidate template ignored: couldn't infer template argument '_BiIter'\u001b[0m\n",
      "operator<<(basic_ostream<_CharT, _ST>& __os, const sub_match<_BiIter>& __m)\n",
      "\u001b[0;1;32m^\n",
      "\u001b[0m\u001b[1m/Users/moneta/root/github/root-build-optim/include/TBuffer.h:394:32: \u001b[0m\u001b[0;1;30mnote: \u001b[0mcandidate template ignored: couldn't infer template argument 'Tmpl'\u001b[0m\n",
      "template <class Tmpl> TBuffer &operator<<(TBuffer &buf, const Tmpl *obj)\n",
      "\u001b[0;1;32m                               ^\n",
      "\u001b[0m\u001b[1m/Applications/Xcode.app/Contents/Developer/Toolchains/XcodeDefault.xctoolchain/usr/bin/../include/c++/v1/valarray:4106:1: \u001b[0m\u001b[0;1;30mnote: \u001b[0mcandidate template ignored: couldn't infer template argument '_Expr2'\u001b[0m\n",
      "operator<<(const _Expr1& __x, const _Expr2& __y)\n",
      "\u001b[0;1;32m^\n",
      "\u001b[0m\u001b[1m/Applications/Xcode.app/Contents/Developer/Toolchains/XcodeDefault.xctoolchain/usr/bin/../include/c++/v1/valarray:4137:1: \u001b[0m\u001b[0;1;30mnote: \u001b[0mcandidate template ignored: couldn't infer template argument '_Expr'\u001b[0m\n",
      "operator<<(const typename _Expr::value_type& __x, const _Expr& __y)\n",
      "\u001b[0;1;32m^\n",
      "\u001b[0m\u001b[1m/Applications/Xcode.app/Contents/Developer/Toolchains/XcodeDefault.xctoolchain/usr/bin/../include/c++/v1/valarray:4121:1: \u001b[0m\u001b[0;1;30mnote: \u001b[0mcandidate template ignored: substitution failure [with _Expr = std::__1::basic_ostream<char>]: no type named 'value_type' in 'std::__1::basic_ostream<char>'\u001b[0m\n",
      "operator<<(const _Expr& __x, const typename _Expr::value_type& __y)\n",
      "\u001b[0;1;32m^\n",
      "\u001b[0m"
     ]
    }
   ],
   "source": [
    "for (size_t i = 0; i < methodNames.size(); ++i) {\n",
    "    TMVA::ROCCurve * roc = new TMVA::ROCCurve(sig_results[i], bkg_results[i]);\n",
    "    TGraph *  roc_graph  = roc->GetROCCurve(); \n",
    "    roc_graph->SetTitle(methodNames[i]);\n",
    "    std::cout << \"method \" << methodNames[i] << \" ROC integral = \" << roc->GetROCIntegral() << std::end;\n",
    "    roc_graph->SetLineColor(i+1);\n",
    "    if (i == 0) roc_graph->Draw(\"AL\");\n",
    "    else roc_graph->Draw(\"L\");\n",
    "}"
   ]
  },
  {
   "cell_type": "code",
   "execution_count": 22,
   "metadata": {
    "collapsed": false
   },
   "outputs": [
    {
     "data": {
      "image/png": "[encoded data removed]",
      "text/plain": [
       "<IPython.core.display.Image object>"
      ]
     },
     "metadata": {},
     "output_type": "display_data"
    },
    {
     "name": "stderr",
     "output_type": "stream",
     "text": [
      "\u001b[1minput_line_97:2:8: \u001b[0m\u001b[0;1;31merror: \u001b[0m\u001b[1mexpected unqualified-id\u001b[0m\n",
      " (std::((*(std::__1::ostream*)0x7fffc2682660)) << \"ROC integral = \" << roc.GetROCIntegral())\n",
      "\u001b[0;1;32m       ^\n",
      "\u001b[0m\u001b[1minput_line_97:2:72: \u001b[0m\u001b[0;1;31merror: \u001b[0m\u001b[1muse of undeclared identifier 'roc'\u001b[0m\n",
      " (std::((*(std::__1::ostream*)0x7fffc2682660)) << \"ROC integral = \" << roc.GetROCIntegral())\n",
      "\u001b[0;1;32m                                                                       ^\n",
      "\u001b[0mError in <HandleInterpreterException>: Error evaluating expression (std::((*(std::__1::ostream*)0x7fffc2682660)) << \"ROC integral = \" << roc.GetROCIntegral()).\n",
      "Execution of your code was aborted.\n"
     ]
    }
   ],
   "source": [
    "gPad->Draw();\n",
    "std::cout << \"ROC integral = \" << roc.GetROCIntegral(); "
   ]
  },
  {
   "cell_type": "code",
   "execution_count": null,
   "metadata": {
    "collapsed": true
   },
   "outputs": [],
   "source": []
  }
 ],
 "metadata": {
  "kernelspec": {
   "display_name": "ROOT C++",
   "language": "c++",
   "name": "root"
  },
  "language_info": {
   "codemirror_mode": "text/x-c++src",
   "file_extension": ".C",
   "mimetype": " text/x-c++src",
   "name": "c++"
  }
 },
 "nbformat": 4,
 "nbformat_minor": 1
}
