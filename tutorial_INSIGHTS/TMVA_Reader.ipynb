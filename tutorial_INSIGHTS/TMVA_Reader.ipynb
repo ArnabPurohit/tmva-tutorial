{
 "cells": [
  {
   "cell_type": "markdown",
   "metadata": {},
   "source": [
    "<img src=\"http://oproject.org/tiki-download_file.php?fileId=8&display&x=450&y=128\">\n",
    "<img src=\"http://files.oproject.org/tmvalogo.png\" height=\"50%\" width=\"50%\">\n",
    "\n",
    "# TMVA  Reader Example \n",
    "\n",
    "#### Example of applying the trained classified of TMVA on a data set and evaluate the classifier"
   ]
  },
  {
   "cell_type": "code",
   "execution_count": 1,
   "metadata": {
    "collapsed": false
   },
   "outputs": [],
   "source": [
    "TMVA::Tools::Instance();"
   ]
  },
  {
   "cell_type": "markdown",
   "metadata": {},
   "source": [
    "### Choose TMVA method to evaluate"
   ]
  },
  {
   "cell_type": "code",
   "execution_count": 2,
   "metadata": {
    "collapsed": false
   },
   "outputs": [
    {
     "name": "stdout",
     "output_type": "stream",
     "text": [
      "(TString &) \"BDT\"[3]\n"
     ]
    }
   ],
   "source": [
    "TString methodName = \"BDT\""
   ]
  },
  {
   "cell_type": "markdown",
   "metadata": {},
   "source": [
    "###  Give input file \n"
   ]
  },
  {
   "cell_type": "code",
   "execution_count": 3,
   "metadata": {
    "collapsed": true
   },
   "outputs": [],
   "source": [
    "TFile * inputFile = TFile::Open(\"Higgs_data.root\");"
   ]
  },
  {
   "cell_type": "code",
   "execution_count": 4,
   "metadata": {
    "collapsed": false
   },
   "outputs": [
    {
     "name": "stdout",
     "output_type": "stream",
     "text": [
      "TFile**\t\tHiggs_data.root\t\n",
      " TFile*\t\tHiggs_data.root\t\n",
      "  KEY: TTree\tsig_tree;1\ttree\n",
      "  KEY: TTree\tbkg_tree;1\ttree\n"
     ]
    }
   ],
   "source": [
    "inputFile->ls();\n"
   ]
  },
  {
   "cell_type": "code",
   "execution_count": 5,
   "metadata": {
    "collapsed": false
   },
   "outputs": [
    {
     "name": "stdout",
     "output_type": "stream",
     "text": [
      "******************************************************************************\n",
      "*Tree    :sig_tree  : tree                                                   *\n",
      "*Entries :    10000 : Total =         1177229 bytes  File  Size =     785298 *\n",
      "*        :          : Tree compression factor =   1.48                       *\n",
      "******************************************************************************\n",
      "*Br    0 :Type      : Type/F                                                 *\n",
      "*Entries :    10000 : Total  Size=      40556 bytes  File Size  =        307 *\n",
      "*Baskets :        1 : Basket Size=    1500672 bytes  Compression= 130.54     *\n",
      "*............................................................................*\n",
      "*Br    1 :lepton_pT : lepton_pT/F                                            *\n",
      "*Entries :    10000 : Total  Size=      40581 bytes  File Size  =      30464 *\n",
      "*Baskets :        1 : Basket Size=    1500672 bytes  Compression=   1.32     *\n",
      "*............................................................................*\n",
      "*Br    2 :lepton_eta : lepton_eta/F                                          *\n",
      "*Entries :    10000 : Total  Size=      40586 bytes  File Size  =      28650 *\n",
      "*Baskets :        1 : Basket Size=    1500672 bytes  Compression=   1.40     *\n",
      "*............................................................................*\n",
      "*Br    3 :lepton_phi : lepton_phi/F                                          *\n",
      "*Entries :    10000 : Total  Size=      40586 bytes  File Size  =      30508 *\n",
      "*Baskets :        1 : Basket Size=    1500672 bytes  Compression=   1.31     *\n",
      "*............................................................................*\n",
      "*Br    4 :missing_energy_magnitude : missing_energy_magnitude/F              *\n",
      "*Entries :    10000 : Total  Size=      40656 bytes  File Size  =      35749 *\n",
      "*Baskets :        1 : Basket Size=    1500672 bytes  Compression=   1.12     *\n",
      "*............................................................................*\n",
      "*Br    5 :missing_energy_phi : missing_energy_phi/F                          *\n",
      "*Entries :    10000 : Total  Size=      40626 bytes  File Size  =      36766 *\n",
      "*Baskets :        1 : Basket Size=    1500672 bytes  Compression=   1.09     *\n",
      "*............................................................................*\n",
      "*Br    6 :jet1_pt   : jet1_pt/F                                              *\n",
      "*Entries :    10000 : Total  Size=      40571 bytes  File Size  =      32298 *\n",
      "*Baskets :        1 : Basket Size=    1500672 bytes  Compression=   1.24     *\n",
      "*............................................................................*\n",
      "*Br    7 :jet1_eta  : jet1_eta/F                                             *\n",
      "*Entries :    10000 : Total  Size=      40576 bytes  File Size  =      28467 *\n",
      "*Baskets :        1 : Basket Size=    1500672 bytes  Compression=   1.41     *\n",
      "*............................................................................*\n",
      "*Br    8 :jet1_phi  : jet1_phi/F                                             *\n",
      "*Entries :    10000 : Total  Size=      40576 bytes  File Size  =      30399 *\n",
      "*Baskets :        1 : Basket Size=    1500672 bytes  Compression=   1.32     *\n",
      "*............................................................................*\n",
      "*Br    9 :jet1_b-tag : jet1_b-tag/F                                          *\n",
      "*Entries :    10000 : Total  Size=      40586 bytes  File Size  =       5087 *\n",
      "*Baskets :        1 : Basket Size=    1500672 bytes  Compression=   7.88     *\n",
      "*............................................................................*\n",
      "*Br   10 :jet2_pt   : jet2_pt/F                                              *\n",
      "*Entries :    10000 : Total  Size=      40571 bytes  File Size  =      31561 *\n",
      "*Baskets :        1 : Basket Size=    1500672 bytes  Compression=   1.27     *\n",
      "*............................................................................*\n",
      "*Br   11 :jet2_eta  : jet2_eta/F                                             *\n",
      "*Entries :    10000 : Total  Size=      40576 bytes  File Size  =      28616 *\n",
      "*Baskets :        1 : Basket Size=    1500672 bytes  Compression=   1.40     *\n",
      "*............................................................................*\n",
      "*Br   12 :jet2_phi  : jet2_phi/F                                             *\n",
      "*Entries :    10000 : Total  Size=      40576 bytes  File Size  =      30547 *\n",
      "*Baskets :        1 : Basket Size=    1500672 bytes  Compression=   1.31     *\n",
      "*............................................................................*\n",
      "*Br   13 :jet2_b-tag : jet2_b-tag/F                                          *\n",
      "*Entries :    10000 : Total  Size=      40586 bytes  File Size  =       5031 *\n",
      "*Baskets :        1 : Basket Size=    1500672 bytes  Compression=   7.97     *\n",
      "*............................................................................*\n",
      "*Br   14 :jet3_pt   : jet3_pt/F                                              *\n",
      "*Entries :    10000 : Total  Size=      40571 bytes  File Size  =      30642 *\n",
      "*Baskets :        1 : Basket Size=    1500672 bytes  Compression=   1.31     *\n",
      "*............................................................................*\n",
      "*Br   15 :jet3_eta  : jet3_eta/F                                             *\n",
      "*Entries :    10000 : Total  Size=      40576 bytes  File Size  =      28955 *\n",
      "*Baskets :        1 : Basket Size=    1500672 bytes  Compression=   1.38     *\n",
      "*............................................................................*\n",
      "*Br   16 :jet3_phi  : jet3_phi/F                                             *\n",
      "*Entries :    10000 : Total  Size=      40576 bytes  File Size  =      30433 *\n",
      "*Baskets :        1 : Basket Size=    1500672 bytes  Compression=   1.32     *\n",
      "*............................................................................*\n",
      "*Br   17 :jet3_b-tag : jet3_b-tag/F                                          *\n",
      "*Entries :    10000 : Total  Size=      40586 bytes  File Size  =       4879 *\n",
      "*Baskets :        1 : Basket Size=    1500672 bytes  Compression=   8.22     *\n",
      "*............................................................................*\n",
      "*Br   18 :jet4_pt   : jet4_pt/F                                              *\n",
      "*Entries :    10000 : Total  Size=      40571 bytes  File Size  =      29189 *\n",
      "*Baskets :        1 : Basket Size=    1500672 bytes  Compression=   1.37     *\n",
      "*............................................................................*\n",
      "*Br   19 :jet4_eta  : jet4_eta/F                                             *\n",
      "*Entries :    10000 : Total  Size=      40576 bytes  File Size  =      29311 *\n",
      "*Baskets :        1 : Basket Size=    1500672 bytes  Compression=   1.37     *\n",
      "*............................................................................*\n",
      "*Br   20 :jet4_phi  : jet4_phi/F                                             *\n",
      "*Entries :    10000 : Total  Size=      40576 bytes  File Size  =      30525 *\n",
      "*Baskets :        1 : Basket Size=    1500672 bytes  Compression=   1.31     *\n",
      "*............................................................................*\n",
      "*Br   21 :jet4_b-tag : jet4_b-tag/F                                          *\n",
      "*Entries :    10000 : Total  Size=      40586 bytes  File Size  =       4725 *\n",
      "*Baskets :        1 : Basket Size=    1500672 bytes  Compression=   8.48     *\n",
      "*............................................................................*\n",
      "*Br   22 :m_jj      : m_jj/F                                                 *\n",
      "*Entries :    10000 : Total  Size=      40556 bytes  File Size  =      34991 *\n",
      "*Baskets :        1 : Basket Size=    1500672 bytes  Compression=   1.15     *\n",
      "*............................................................................*\n",
      "*Br   23 :m_jjj     : m_jjj/F                                                *\n",
      "*Entries :    10000 : Total  Size=      40561 bytes  File Size  =      34460 *\n",
      "*Baskets :        1 : Basket Size=    1500672 bytes  Compression=   1.16     *\n",
      "*............................................................................*\n",
      "*Br   24 :m_lv      : m_lv/F                                                 *\n",
      "*Entries :    10000 : Total  Size=      40556 bytes  File Size  =      32232 *\n",
      "*Baskets :        1 : Basket Size=    1500672 bytes  Compression=   1.24     *\n",
      "*............................................................................*\n",
      "*Br   25 :m_jlv     : m_jlv/F                                                *\n",
      "*Entries :    10000 : Total  Size=      40561 bytes  File Size  =      34598 *\n",
      "*Baskets :        1 : Basket Size=    1500672 bytes  Compression=   1.16     *\n",
      "*............................................................................*\n",
      "*Br   26 :m_bb      : m_bb/F                                                 *\n",
      "*Entries :    10000 : Total  Size=      40556 bytes  File Size  =      35012 *\n",
      "*Baskets :        1 : Basket Size=    1500672 bytes  Compression=   1.14     *\n",
      "*............................................................................*\n",
      "*Br   27 :m_wbb     : m_wbb/F                                                *\n",
      "*Entries :    10000 : Total  Size=      40561 bytes  File Size  =      34493 *\n",
      "*Baskets :        1 : Basket Size=    1500672 bytes  Compression=   1.16     *\n",
      "*............................................................................*\n",
      "*Br   28 :m_wwbb    : m_wwbb/F                                               *\n",
      "*Entries :    10000 : Total  Size=      40566 bytes  File Size  =      34410 *\n",
      "*Baskets :        1 : Basket Size=    1500672 bytes  Compression=   1.16     *\n",
      "*............................................................................*\n"
     ]
    }
   ],
   "source": [
    "auto sig_tree = (TTree*) inputFile->Get(\"sig_tree\");\n",
    "auto bkg_tree = (TTree*) inputFile->Get(\"bkg_tree\");\n",
    "sig_tree->Print(); "
   ]
  },
  {
   "cell_type": "markdown",
   "metadata": {},
   "source": [
    "### Declare Reader\n"
   ]
  },
  {
   "cell_type": "code",
   "execution_count": 6,
   "metadata": {
    "collapsed": true
   },
   "outputs": [],
   "source": [
    "\n",
    "TMVA::Reader reader( \"!Color:!Silent\" );\n"
   ]
  },
  {
   "cell_type": "markdown",
   "metadata": {},
   "source": [
    "### Add Variable\n",
    "\n",
    "We add variables to the reader exactly in the same way we did for the **DataLoader** during the training\n",
    "\n",
    "We need to specify the address of the variable in order to pass it to TMVA when we iterate on the TTree\n"
   ]
  },
  {
   "cell_type": "code",
   "execution_count": 7,
   "metadata": {
    "collapsed": true
   },
   "outputs": [],
   "source": [
    "float m_jj, m_jjj, m_lv, m_jlv, m_bb, m_wbb, m_wwbb; "
   ]
  },
  {
   "cell_type": "code",
   "execution_count": 8,
   "metadata": {
    "collapsed": true
   },
   "outputs": [],
   "source": [
    "// add variables \n",
    "reader.AddVariable(\"m_jj\",&m_jj);\n",
    "reader.AddVariable(\"m_jjj\",&m_jjj);\n",
    "reader.AddVariable(\"m_lv\",&m_lv);\n",
    "reader.AddVariable(\"m_jlv\",&m_jlv);\n",
    "reader.AddVariable(\"m_bb\",&m_bb);\n",
    "reader.AddVariable(\"m_wbb\",&m_wbb);\n",
    "reader.AddVariable(\"m_wwbb\",&m_wwbb);"
   ]
  },
  {
   "cell_type": "markdown",
   "metadata": {},
   "source": [
    "## Setup Classifiers\n",
    "\n",
    "We set up the classifiers by reading the input weights from the appropriate files\n",
    "\n",
    "The file is stored for example as \n",
    "\n",
    "####  *dataset/weights/TMVAClassification_BDT.weights.xml"
   ]
  },
  {
   "cell_type": "code",
   "execution_count": 9,
   "metadata": {
    "collapsed": false
   },
   "outputs": [
    {
     "name": "stdout",
     "output_type": "stream",
     "text": [
      "(TString &) \"dataset/weights/TMVA_Higgs_Classification_BDT.weights.xml\"[57]\n"
     ]
    }
   ],
   "source": [
    "TString weightfile = \"dataset/weights/TMVA_Higgs_Classification_\" + methodName + \".weights.xml\""
   ]
  },
  {
   "cell_type": "code",
   "execution_count": 10,
   "metadata": {
    "collapsed": false
   },
   "outputs": [
    {
     "name": "stdout",
     "output_type": "stream",
     "text": [
      "                         : Booking \"BDT\" of type \"BDT\" from dataset/weights/TMVA_Higgs_Classification_BDT.weights.xml.\n",
      "                         : Reading weight file: dataset/weights/TMVA_Higgs_Classification_BDT.weights.xml\n",
      "<HEADER> DataSetInfo              : [Default] : Added class \"Signal\"\n",
      "<HEADER> DataSetInfo              : [Default] : Added class \"Background\"\n",
      "                         : Booked classifier \"BDT\" of type: \"BDT\"\n"
     ]
    }
   ],
   "source": [
    "reader.BookMVA( methodName, weightfile );"
   ]
  },
  {
   "cell_type": "markdown",
   "metadata": {},
   "source": [
    "### Book histogram to visualize the response"
   ]
  },
  {
   "cell_type": "code",
   "execution_count": 11,
   "metadata": {
    "collapsed": true
   },
   "outputs": [],
   "source": [
    "auto h1 = new TH1D(\"h1\",\"Classifier Output on Background Events\",100,-1,1);\n",
    "auto h2 = new TH1D(\"h2\",\"Classifier Output on Signal Events\",100,-1,1);\n",
    "std::vector<float> vout;\n",
    "std::vector<float> vout2;"
   ]
  },
  {
   "cell_type": "markdown",
   "metadata": {},
   "source": [
    "## Iterate on the events from the input TTree "
   ]
  },
  {
   "cell_type": "code",
   "execution_count": 12,
   "metadata": {
    "collapsed": false
   },
   "outputs": [],
   "source": [
    "auto readEvents = [&](TTree & tree, TH1 & histo) {\n",
    "  tree.SetBranchAddress(\"m_jj\",&m_jj);\n",
    "  tree.SetBranchAddress(\"m_jjj\",&m_jjj);\n",
    "  tree.SetBranchAddress(\"m_lv\",&m_lv) ;\n",
    "  tree.SetBranchAddress(\"m_jlv\",&m_jlv);\n",
    "  tree.SetBranchAddress(\"m_bb\",&m_bb);\n",
    "  tree.SetBranchAddress(\"m_wbb\",&m_wbb);\n",
    "  tree.SetBranchAddress(\"m_wwbb\",&m_wwbb);\n",
    "  vout.clear(); \n",
    "  vout.resize(tree.GetEntries());\n",
    "  for (Long64_t ievt=0; ievt < tree.GetEntries();ievt++) {\n",
    "\n",
    "      if (ievt%500 == 0) std::cout << \"--- ... Processing event: \" << ievt << std::endl;\n",
    "\n",
    "      tree.GetEntry(ievt);\n",
    "    \n",
    "      auto output = reader.EvaluateMVA(methodName);\n",
    "  \n",
    "        histo.Fill(output);\n",
    "        vout[ievt] = output;  \n",
    "  }\n",
    "};\n",
    "    "
   ]
  },
  {
   "cell_type": "markdown",
   "metadata": {},
   "source": [
    "### Evaluation of the classifier on the given input events\n",
    "\n",
    "We iterate on the input event in the given TTree. We provide as input first the background tree \n",
    "We need first to define the branches we are reading from the trees and then we can read the events calling \n",
    "the readEvents function we have defined before"
   ]
  },
  {
   "cell_type": "code",
   "execution_count": 13,
   "metadata": {
    "collapsed": false
   },
   "outputs": [
    {
     "name": "stdout",
     "output_type": "stream",
     "text": [
      "--- ... Processing event: 0\n",
      "--- ... Processing event: 500\n",
      "--- ... Processing event: 1000\n",
      "--- ... Processing event: 1500\n",
      "--- ... Processing event: 2000\n",
      "--- ... Processing event: 2500\n",
      "--- ... Processing event: 3000\n",
      "--- ... Processing event: 3500\n",
      "--- ... Processing event: 4000\n",
      "--- ... Processing event: 4500\n",
      "--- ... Processing event: 5000\n",
      "--- ... Processing event: 5500\n",
      "--- ... Processing event: 6000\n",
      "--- ... Processing event: 6500\n",
      "--- ... Processing event: 7000\n",
      "--- ... Processing event: 7500\n",
      "--- ... Processing event: 8000\n",
      "--- ... Processing event: 8500\n",
      "--- ... Processing event: 9000\n",
      "--- ... Processing event: 9500\n"
     ]
    }
   ],
   "source": [
    "// read events and fill histogram\n",
    "readEvents(*bkg_tree,*h1); "
   ]
  },
  {
   "cell_type": "code",
   "execution_count": 14,
   "metadata": {
    "collapsed": true
   },
   "outputs": [],
   "source": [
    "std::vector<float> bkg_result = vout; "
   ]
  },
  {
   "cell_type": "code",
   "execution_count": 15,
   "metadata": {
    "collapsed": false,
    "scrolled": true
   },
   "outputs": [
    {
     "data": {
      "image/png": "[encoded data removed]",
      "text/plain": [
       "<IPython.core.display.Image object>"
      ]
     },
     "metadata": {},
     "output_type": "display_data"
    },
    {
     "name": "stderr",
     "output_type": "stream",
     "text": [
      "Info in <TCanvas::MakeDefCanvas>:  created default TCanvas with name c1\n"
     ]
    }
   ],
   "source": [
    "h1->Draw();\n",
    "gPad->Draw();"
   ]
  },
  {
   "cell_type": "markdown",
   "metadata": {},
   "source": [
    "### Evaluation on the signal  events\n",
    "\n",
    "We evaluate now the classifier on the another tree (e.g. the signal events)\n",
    "\n"
   ]
  },
  {
   "cell_type": "code",
   "execution_count": 16,
   "metadata": {
    "collapsed": false
   },
   "outputs": [
    {
     "name": "stdout",
     "output_type": "stream",
     "text": [
      "--- ... Processing event: 0\n",
      "--- ... Processing event: 500\n",
      "--- ... Processing event: 1000\n",
      "--- ... Processing event: 1500\n",
      "--- ... Processing event: 2000\n",
      "--- ... Processing event: 2500\n",
      "--- ... Processing event: 3000\n",
      "--- ... Processing event: 3500\n",
      "--- ... Processing event: 4000\n",
      "--- ... Processing event: 4500\n",
      "--- ... Processing event: 5000\n",
      "--- ... Processing event: 5500\n",
      "--- ... Processing event: 6000\n",
      "--- ... Processing event: 6500\n",
      "--- ... Processing event: 7000\n",
      "--- ... Processing event: 7500\n",
      "--- ... Processing event: 8000\n",
      "--- ... Processing event: 8500\n",
      "--- ... Processing event: 9000\n",
      "--- ... Processing event: 9500\n"
     ]
    }
   ],
   "source": [
    "readEvents(*sig_tree,*h2); "
   ]
  },
  {
   "cell_type": "code",
   "execution_count": 17,
   "metadata": {
    "collapsed": true
   },
   "outputs": [],
   "source": [
    "h2->SetLineColor(kRed);\n",
    "std::vector<float> sig_result = vout; "
   ]
  },
  {
   "cell_type": "code",
   "execution_count": 18,
   "metadata": {
    "collapsed": false
   },
   "outputs": [
    {
     "data": {
      "image/png": "[encoded data removed]",
      "text/plain": [
       "<IPython.core.display.Image object>"
      ]
     },
     "metadata": {},
     "output_type": "display_data"
    }
   ],
   "source": [
    "h2->Draw(\"SAME\");\n",
    "gPad->Draw();\n",
    "gPad->BuildLegend();"
   ]
  },
  {
   "cell_type": "markdown",
   "metadata": {},
   "source": [
    "## Make ROC plot"
   ]
  },
  {
   "cell_type": "code",
   "execution_count": 19,
   "metadata": {
    "collapsed": false
   },
   "outputs": [
    {
     "name": "stdout",
     "output_type": "stream",
     "text": [
      "ROC integral = 0.760342"
     ]
    }
   ],
   "source": [
    "TMVA::ROCCurve roc(sig_result, bkg_result);\n",
    "TGraph *  roc_graph  = roc.GetROCCurve(); \n",
    "roc_graph->Draw(\"AL\");"
   ]
  },
  {
   "cell_type": "code",
   "execution_count": 21,
   "metadata": {
    "collapsed": false
   },
   "outputs": [
    {
     "data": {
      "image/png": "[encoded data removed]",
      "text/plain": [
       "<IPython.core.display.Image object>"
      ]
     },
     "metadata": {},
     "output_type": "display_data"
    },
    {
     "name": "stdout",
     "output_type": "stream",
     "text": [
      "ROC integral = 0.760342"
     ]
    }
   ],
   "source": [
    "gPad->Draw();\n",
    "std::cout << \"ROC integral = \" << roc.GetROCIntegral(); "
   ]
  },
  {
   "cell_type": "code",
   "execution_count": null,
   "metadata": {
    "collapsed": true
   },
   "outputs": [],
   "source": []
  }
 ],
 "metadata": {
  "kernelspec": {
   "display_name": "ROOT C++",
   "language": "c++",
   "name": "root"
  },
  "language_info": {
   "codemirror_mode": "text/x-c++src",
   "file_extension": ".C",
   "mimetype": " text/x-c++src",
   "name": "c++"
  }
 },
 "nbformat": 4,
 "nbformat_minor": 1
}
